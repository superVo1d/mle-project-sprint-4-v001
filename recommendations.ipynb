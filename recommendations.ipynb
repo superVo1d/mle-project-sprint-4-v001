{
 "cells": [
  {
   "cell_type": "markdown",
   "id": "f4095ae4-7294-4b28-853e-88d235002c97",
   "metadata": {},
   "source": [
    "# Инициализация"
   ]
  },
  {
   "cell_type": "markdown",
   "id": "2f2318d2-9df8-4911-915e-15b725c44f8a",
   "metadata": {},
   "source": [
    "Загружаем библиотеки необходимые для выполнения кода ноутбука."
   ]
  },
  {
   "cell_type": "code",
   "execution_count": 1,
   "id": "662d04e7-1b0b-4e4a-9ddf-4526d7fef119",
   "metadata": {},
   "outputs": [],
   "source": [
    "import os\n",
    "from dotenv import load_dotenv\n",
    "import logging\n",
    "import matplotlib.pyplot as plt\n",
    "import numpy as np\n",
    "import pandas as pd\n",
    "import boto3\n",
    "from catboost import CatBoostClassifier, Pool\n",
    "import scipy\n",
    "import sklearn.preprocessing\n",
    "from scipy.sparse import csr_matrix\n",
    "from implicit.als import AlternatingLeastSquares "
   ]
  },
  {
   "cell_type": "code",
   "execution_count": 2,
   "id": "d3d5c76c-2212-49e5-a460-335eef2db1bf",
   "metadata": {},
   "outputs": [],
   "source": [
    "load_dotenv()\n",
    "\n",
    "aws_access_key_id = os.getenv('AWS_ACCESS_KEY_ID_STUDENT')\n",
    "aws_secret_access_key = os.getenv('AWS_SECRET_ACCESS_KEY_STUDENT')\n",
    "aws_endpoint_url = 'https://storage.yandexcloud.net/'\n",
    "aws_bucket_name = os.getenv('STUDENT_S3_BUCKET')\n",
    "\n",
    "session = boto3.session.Session()\n",
    "s3_client = session.client(\n",
    "    service_name='s3',\n",
    "    endpoint_url=aws_endpoint_url,\n",
    "    aws_access_key_id=aws_access_key_id,\n",
    "    aws_secret_access_key=aws_secret_access_key\n",
    ")\n",
    "\n",
    "def upload_to_s3(filename, bucket):\n",
    "    try:\n",
    "        s3_client.upload_file(filename, bucket, f'recsys/data/{filename}')\n",
    "    except Exception as error:\n",
    "        print(error)"
   ]
  },
  {
   "cell_type": "code",
   "execution_count": 3,
   "id": "14af65d0-f299-47ba-9b47-2d412ff16f6a",
   "metadata": {},
   "outputs": [],
   "source": [
    "%matplotlib inline\n",
    "%config InlineBackend.figure_format = 'png'\n",
    "%config InlineBackend.figure_format = 'retina'"
   ]
  },
  {
   "cell_type": "code",
   "execution_count": 4,
   "id": "b95d2a9b-07ae-49f8-8a26-84edd0279721",
   "metadata": {},
   "outputs": [],
   "source": [
    "pd.options.mode.chained_assignment = None"
   ]
  },
  {
   "cell_type": "markdown",
   "id": "bf80fbc5-b660-4fac-8fbb-a5cae77313b3",
   "metadata": {},
   "source": [
    "# === ЭТАП 1 ==="
   ]
  },
  {
   "cell_type": "markdown",
   "id": "5263a8b3-fe99-4204-8a2e-105182792c11",
   "metadata": {},
   "source": [
    "# Загрузка первичных данных"
   ]
  },
  {
   "cell_type": "markdown",
   "id": "1b54a6a5-1656-4e3c-99d1-49dc39451d33",
   "metadata": {},
   "source": [
    "Загружаем первичные данные из файлов:\n",
    "- tracks.parquet\n",
    "- catalog_names.parquet\n",
    "- interactions.parquet"
   ]
  },
  {
   "cell_type": "code",
   "execution_count": 4,
   "id": "679ff827-6006-4d51-b92a-1067b0f0c31c",
   "metadata": {},
   "outputs": [],
   "source": [
    "catalog_names = pd.read_parquet(\"catalog_names.parquet\")"
   ]
  },
  {
   "cell_type": "code",
   "execution_count": 103,
   "id": "5d4b8961-3f35-4e58-9d6b-3e2dbd2c4224",
   "metadata": {},
   "outputs": [],
   "source": [
    "tracks = pd.read_parquet(\"tracks.parquet\")\n",
    "interactions = pd.read_parquet(\"interactions.parquet\")"
   ]
  },
  {
   "cell_type": "markdown",
   "id": "e8f2a1f7-a05f-4f39-af90-5f4018aa6f9d",
   "metadata": {},
   "source": [
    "# Обзор данных"
   ]
  },
  {
   "cell_type": "markdown",
   "id": "46a85307-896c-4fac-9fcf-f0dffa90889e",
   "metadata": {},
   "source": [
    "Проверяем данные, есть ли с ними явные проблемы."
   ]
  },
  {
   "cell_type": "code",
   "execution_count": 105,
   "id": "c9f8f17e-9b56-4f5a-a463-f694a993effb",
   "metadata": {},
   "outputs": [
    {
     "name": "stdout",
     "output_type": "stream",
     "text": [
      "<class 'pandas.core.frame.DataFrame'>\n",
      "RangeIndex: 1000000 entries, 0 to 999999\n",
      "Data columns (total 4 columns):\n",
      " #   Column    Non-Null Count    Dtype \n",
      "---  ------    --------------    ----- \n",
      " 0   track_id  1000000 non-null  int64 \n",
      " 1   albums    1000000 non-null  object\n",
      " 2   artists   1000000 non-null  object\n",
      " 3   genres    1000000 non-null  object\n",
      "dtypes: int64(1), object(3)\n",
      "memory usage: 30.5+ MB\n"
     ]
    }
   ],
   "source": [
    "tracks.info()"
   ]
  },
  {
   "cell_type": "code",
   "execution_count": 106,
   "id": "695e2697-f75a-4810-a251-ad9dcf75a069",
   "metadata": {},
   "outputs": [
    {
     "data": {
      "text/html": [
       "<div>\n",
       "<style scoped>\n",
       "    .dataframe tbody tr th:only-of-type {\n",
       "        vertical-align: middle;\n",
       "    }\n",
       "\n",
       "    .dataframe tbody tr th {\n",
       "        vertical-align: top;\n",
       "    }\n",
       "\n",
       "    .dataframe thead th {\n",
       "        text-align: right;\n",
       "    }\n",
       "</style>\n",
       "<table border=\"1\" class=\"dataframe\">\n",
       "  <thead>\n",
       "    <tr style=\"text-align: right;\">\n",
       "      <th></th>\n",
       "      <th>track_id</th>\n",
       "      <th>albums</th>\n",
       "      <th>artists</th>\n",
       "      <th>genres</th>\n",
       "    </tr>\n",
       "  </thead>\n",
       "  <tbody>\n",
       "    <tr>\n",
       "      <th>987231</th>\n",
       "      <td>95229664</td>\n",
       "      <td>[19388714]</td>\n",
       "      <td>[222689]</td>\n",
       "      <td>[11]</td>\n",
       "    </tr>\n",
       "    <tr>\n",
       "      <th>79954</th>\n",
       "      <td>700056</td>\n",
       "      <td>[37164]</td>\n",
       "      <td>[118708]</td>\n",
       "      <td>[7, 112, 61]</td>\n",
       "    </tr>\n",
       "    <tr>\n",
       "      <th>567130</th>\n",
       "      <td>39019190</td>\n",
       "      <td>[1806703]</td>\n",
       "      <td>[2720477]</td>\n",
       "      <td>[12]</td>\n",
       "    </tr>\n",
       "    <tr>\n",
       "      <th>500891</th>\n",
       "      <td>34625231</td>\n",
       "      <td>[4271134]</td>\n",
       "      <td>[4732313]</td>\n",
       "      <td>[68]</td>\n",
       "    </tr>\n",
       "    <tr>\n",
       "      <th>55399</th>\n",
       "      <td>518436</td>\n",
       "      <td>[55672, 55673, 4497446, 4497447, 4497448, 4497...</td>\n",
       "      <td>[29903, 322, 316, 321, 319, 320]</td>\n",
       "      <td>[68]</td>\n",
       "    </tr>\n",
       "  </tbody>\n",
       "</table>\n",
       "</div>"
      ],
      "text/plain": [
       "        track_id                                             albums  \\\n",
       "987231  95229664                                         [19388714]   \n",
       "79954     700056                                            [37164]   \n",
       "567130  39019190                                          [1806703]   \n",
       "500891  34625231                                          [4271134]   \n",
       "55399     518436  [55672, 55673, 4497446, 4497447, 4497448, 4497...   \n",
       "\n",
       "                                 artists        genres  \n",
       "987231                          [222689]          [11]  \n",
       "79954                           [118708]  [7, 112, 61]  \n",
       "567130                         [2720477]          [12]  \n",
       "500891                         [4732313]          [68]  \n",
       "55399   [29903, 322, 316, 321, 319, 320]          [68]  "
      ]
     },
     "execution_count": 106,
     "metadata": {},
     "output_type": "execute_result"
    }
   ],
   "source": [
    "tracks.sample(5, random_state=42)"
   ]
  },
  {
   "cell_type": "code",
   "execution_count": 107,
   "id": "366c5a21-2fe0-4e0e-9360-cf085446c16f",
   "metadata": {},
   "outputs": [
    {
     "data": {
      "text/plain": [
       "0"
      ]
     },
     "execution_count": 107,
     "metadata": {},
     "output_type": "execute_result"
    }
   ],
   "source": [
    "# Проверяем дубликаты\n",
    "tracks['track_id'].duplicated().sum()"
   ]
  },
  {
   "cell_type": "code",
   "execution_count": 108,
   "id": "5704136c-b33a-4874-9dbd-fd77fa0534ed",
   "metadata": {},
   "outputs": [
    {
     "data": {
      "text/plain": [
       "101521819"
      ]
     },
     "execution_count": 108,
     "metadata": {},
     "output_type": "execute_result"
    }
   ],
   "source": [
    "# Самое большое значение идентификатора\n",
    "tracks['track_id'].max()"
   ]
  },
  {
   "cell_type": "code",
   "execution_count": 109,
   "id": "5ee52eab-b9cc-4554-83a4-27d6ba6502f7",
   "metadata": {},
   "outputs": [
    {
     "data": {
      "text/plain": [
       "track_id    0\n",
       "albums      0\n",
       "artists     0\n",
       "genres      0\n",
       "dtype: int64"
      ]
     },
     "execution_count": 109,
     "metadata": {},
     "output_type": "execute_result"
    }
   ],
   "source": [
    "# Проверяем пропуски\n",
    "tracks.isna().sum()"
   ]
  },
  {
   "cell_type": "code",
   "execution_count": 110,
   "id": "f2e9f833-b227-4727-b423-369c38d1d8b9",
   "metadata": {},
   "outputs": [
    {
     "data": {
      "text/plain": [
       "3687"
      ]
     },
     "execution_count": 110,
     "metadata": {},
     "output_type": "execute_result"
    }
   ],
   "source": [
    "# Треки с пропущенным жанром\n",
    "len(tracks[tracks['genres'].str.len() == 0])"
   ]
  },
  {
   "cell_type": "code",
   "execution_count": 111,
   "id": "f89f4bd3-e63b-4433-964a-cd2c93ec49ea",
   "metadata": {},
   "outputs": [
    {
     "data": {
      "text/plain": [
       "15369"
      ]
     },
     "execution_count": 111,
     "metadata": {},
     "output_type": "execute_result"
    }
   ],
   "source": [
    "# Треки с пропущенным артистом\n",
    "len(tracks[tracks['artists'].str.len() == 0])"
   ]
  },
  {
   "cell_type": "code",
   "execution_count": 112,
   "id": "01e6acb0-11f1-49d0-9ae6-faab17fb9b85",
   "metadata": {},
   "outputs": [
    {
     "data": {
      "text/plain": [
       "18"
      ]
     },
     "execution_count": 112,
     "metadata": {},
     "output_type": "execute_result"
    }
   ],
   "source": [
    "# Треки с пропущенным альбомом\n",
    "len(tracks[tracks['albums'].str.len() == 0])"
   ]
  },
  {
   "cell_type": "code",
   "execution_count": 113,
   "id": "2ae95c1a-17d8-494c-b772-4bc26f35b9cb",
   "metadata": {},
   "outputs": [],
   "source": [
    "# Делаем track_id индексным столбцом\n",
    "tracks.set_index('track_id', inplace=True)"
   ]
  },
  {
   "cell_type": "code",
   "execution_count": 114,
   "id": "efd2e2eb-3bec-4ce1-87ac-232bab8bc0d0",
   "metadata": {},
   "outputs": [
    {
     "name": "stdout",
     "output_type": "stream",
     "text": [
      "<class 'pandas.core.frame.DataFrame'>\n",
      "RangeIndex: 1812471 entries, 0 to 1812470\n",
      "Data columns (total 3 columns):\n",
      " #   Column  Dtype \n",
      "---  ------  ----- \n",
      " 0   id      int64 \n",
      " 1   type    object\n",
      " 2   name    object\n",
      "dtypes: int64(1), object(2)\n",
      "memory usage: 41.5+ MB\n"
     ]
    }
   ],
   "source": [
    "catalog_names.info()"
   ]
  },
  {
   "cell_type": "code",
   "execution_count": 115,
   "id": "a4c9901d-3d0d-4455-a626-502b12bb98fc",
   "metadata": {},
   "outputs": [
    {
     "data": {
      "text/plain": [
       "type\n",
       "track     1000000\n",
       "album      658724\n",
       "artist     153581\n",
       "genre         166\n",
       "Name: count, dtype: int64"
      ]
     },
     "execution_count": 115,
     "metadata": {},
     "output_type": "execute_result"
    }
   ],
   "source": [
    "# Типы записей\n",
    "catalog_names['type'].value_counts()"
   ]
  },
  {
   "cell_type": "code",
   "execution_count": 116,
   "id": "c527a444-83d1-4726-b6b1-2cca1a677bb0",
   "metadata": {},
   "outputs": [],
   "source": [
    "# Так как в колонке \"type\" всего четыре уникальных значения, мы можем поменять тип данных на category\n",
    "catalog_names['type'] = catalog_names['type'].astype('category')"
   ]
  },
  {
   "cell_type": "code",
   "execution_count": 117,
   "id": "bc390f56-a21d-43be-8ae4-c3bcf1357889",
   "metadata": {},
   "outputs": [
    {
     "name": "stdout",
     "output_type": "stream",
     "text": [
      "<class 'pandas.core.frame.DataFrame'>\n",
      "RangeIndex: 1812471 entries, 0 to 1812470\n",
      "Data columns (total 3 columns):\n",
      " #   Column  Dtype   \n",
      "---  ------  -----   \n",
      " 0   id      int64   \n",
      " 1   type    category\n",
      " 2   name    object  \n",
      "dtypes: category(1), int64(1), object(1)\n",
      "memory usage: 29.4+ MB\n"
     ]
    }
   ],
   "source": [
    "# Использование памяти существенно сократилось\n",
    "catalog_names.info()"
   ]
  },
  {
   "cell_type": "code",
   "execution_count": 118,
   "id": "917f740d-cb6e-4303-9da0-963f9f0b0b1e",
   "metadata": {},
   "outputs": [
    {
     "data": {
      "text/html": [
       "<div>\n",
       "<style scoped>\n",
       "    .dataframe tbody tr th:only-of-type {\n",
       "        vertical-align: middle;\n",
       "    }\n",
       "\n",
       "    .dataframe tbody tr th {\n",
       "        vertical-align: top;\n",
       "    }\n",
       "\n",
       "    .dataframe thead th {\n",
       "        text-align: right;\n",
       "    }\n",
       "</style>\n",
       "<table border=\"1\" class=\"dataframe\">\n",
       "  <thead>\n",
       "    <tr style=\"text-align: right;\">\n",
       "      <th></th>\n",
       "      <th>id</th>\n",
       "      <th>type</th>\n",
       "      <th>name</th>\n",
       "    </tr>\n",
       "  </thead>\n",
       "  <tbody>\n",
       "    <tr>\n",
       "      <th>1514369</th>\n",
       "      <td>51822590</td>\n",
       "      <td>track</td>\n",
       "      <td>Музыка в фильмах Тарантино</td>\n",
       "    </tr>\n",
       "    <tr>\n",
       "      <th>437151</th>\n",
       "      <td>8810199</td>\n",
       "      <td>album</td>\n",
       "      <td>Shadow</td>\n",
       "    </tr>\n",
       "    <tr>\n",
       "      <th>1800488</th>\n",
       "      <td>95436616</td>\n",
       "      <td>track</td>\n",
       "      <td>Ключ</td>\n",
       "    </tr>\n",
       "    <tr>\n",
       "      <th>635810</th>\n",
       "      <td>19044912</td>\n",
       "      <td>album</td>\n",
       "      <td>Gnomi Di Natale</td>\n",
       "    </tr>\n",
       "    <tr>\n",
       "      <th>1436508</th>\n",
       "      <td>43503873</td>\n",
       "      <td>track</td>\n",
       "      <td>Пароль</td>\n",
       "    </tr>\n",
       "  </tbody>\n",
       "</table>\n",
       "</div>"
      ],
      "text/plain": [
       "               id   type                        name\n",
       "1514369  51822590  track  Музыка в фильмах Тарантино\n",
       "437151    8810199  album                      Shadow\n",
       "1800488  95436616  track                        Ключ\n",
       "635810   19044912  album             Gnomi Di Natale\n",
       "1436508  43503873  track                      Пароль"
      ]
     },
     "execution_count": 118,
     "metadata": {},
     "output_type": "execute_result"
    }
   ],
   "source": [
    "catalog_names.sample(5, random_state=42)"
   ]
  },
  {
   "cell_type": "code",
   "execution_count": 119,
   "id": "af55fae7-3902-4bc3-a271-35292af2ddf8",
   "metadata": {},
   "outputs": [
    {
     "data": {
      "text/html": [
       "<div>\n",
       "<style scoped>\n",
       "    .dataframe tbody tr th:only-of-type {\n",
       "        vertical-align: middle;\n",
       "    }\n",
       "\n",
       "    .dataframe tbody tr th {\n",
       "        vertical-align: top;\n",
       "    }\n",
       "\n",
       "    .dataframe thead th {\n",
       "        text-align: right;\n",
       "    }\n",
       "</style>\n",
       "<table border=\"1\" class=\"dataframe\">\n",
       "  <thead>\n",
       "    <tr style=\"text-align: right;\">\n",
       "      <th></th>\n",
       "      <th>id</th>\n",
       "      <th>type</th>\n",
       "      <th>name</th>\n",
       "    </tr>\n",
       "  </thead>\n",
       "  <tbody>\n",
       "    <tr>\n",
       "      <th>1799702</th>\n",
       "      <td>95229664</td>\n",
       "      <td>track</td>\n",
       "      <td>Have Yourself A Merry Little Christmas</td>\n",
       "    </tr>\n",
       "  </tbody>\n",
       "</table>\n",
       "</div>"
      ],
      "text/plain": [
       "               id   type                                    name\n",
       "1799702  95229664  track  Have Yourself A Merry Little Christmas"
      ]
     },
     "execution_count": 119,
     "metadata": {},
     "output_type": "execute_result"
    }
   ],
   "source": [
    "catalog_names[catalog_names['id'] == 95229664]"
   ]
  },
  {
   "cell_type": "code",
   "execution_count": 120,
   "id": "c571ce15-ac4b-4498-885a-731a78e0b0cd",
   "metadata": {},
   "outputs": [
    {
     "data": {
      "text/html": [
       "<div>\n",
       "<style scoped>\n",
       "    .dataframe tbody tr th:only-of-type {\n",
       "        vertical-align: middle;\n",
       "    }\n",
       "\n",
       "    .dataframe tbody tr th {\n",
       "        vertical-align: top;\n",
       "    }\n",
       "\n",
       "    .dataframe thead th {\n",
       "        text-align: right;\n",
       "    }\n",
       "</style>\n",
       "<table border=\"1\" class=\"dataframe\">\n",
       "  <thead>\n",
       "    <tr style=\"text-align: right;\">\n",
       "      <th></th>\n",
       "      <th>id</th>\n",
       "      <th>type</th>\n",
       "      <th>name</th>\n",
       "    </tr>\n",
       "  </thead>\n",
       "  <tbody>\n",
       "    <tr>\n",
       "      <th>639952</th>\n",
       "      <td>19388714</td>\n",
       "      <td>album</td>\n",
       "      <td>Have Yourself A Merry Little Christmas</td>\n",
       "    </tr>\n",
       "  </tbody>\n",
       "</table>\n",
       "</div>"
      ],
      "text/plain": [
       "              id   type                                    name\n",
       "639952  19388714  album  Have Yourself A Merry Little Christmas"
      ]
     },
     "execution_count": 120,
     "metadata": {},
     "output_type": "execute_result"
    }
   ],
   "source": [
    "catalog_names[catalog_names['id'] == 19388714]"
   ]
  },
  {
   "cell_type": "code",
   "execution_count": 121,
   "id": "e02f5d4b-a12b-45bd-9367-ae170bb9398f",
   "metadata": {},
   "outputs": [
    {
     "data": {
      "text/html": [
       "<div>\n",
       "<style scoped>\n",
       "    .dataframe tbody tr th:only-of-type {\n",
       "        vertical-align: middle;\n",
       "    }\n",
       "\n",
       "    .dataframe tbody tr th {\n",
       "        vertical-align: top;\n",
       "    }\n",
       "\n",
       "    .dataframe thead th {\n",
       "        text-align: right;\n",
       "    }\n",
       "</style>\n",
       "<table border=\"1\" class=\"dataframe\">\n",
       "  <thead>\n",
       "    <tr style=\"text-align: right;\">\n",
       "      <th></th>\n",
       "      <th>id</th>\n",
       "      <th>type</th>\n",
       "      <th>name</th>\n",
       "    </tr>\n",
       "  </thead>\n",
       "  <tbody>\n",
       "    <tr>\n",
       "      <th>812316</th>\n",
       "      <td>11</td>\n",
       "      <td>genre</td>\n",
       "      <td>pop</td>\n",
       "    </tr>\n",
       "  </tbody>\n",
       "</table>\n",
       "</div>"
      ],
      "text/plain": [
       "        id   type name\n",
       "812316  11  genre  pop"
      ]
     },
     "execution_count": 121,
     "metadata": {},
     "output_type": "execute_result"
    }
   ],
   "source": [
    "catalog_names[catalog_names['id'] == 11]"
   ]
  },
  {
   "cell_type": "code",
   "execution_count": 122,
   "id": "200af1ce-1d5b-45fd-996e-47b47a3d4d8f",
   "metadata": {},
   "outputs": [
    {
     "data": {
      "text/plain": [
       "id      0\n",
       "type    0\n",
       "name    0\n",
       "dtype: int64"
      ]
     },
     "execution_count": 122,
     "metadata": {},
     "output_type": "execute_result"
    }
   ],
   "source": [
    "# Проверяем пропуски\n",
    "catalog_names.isna().sum()"
   ]
  },
  {
   "cell_type": "code",
   "execution_count": 123,
   "id": "c9e185b8-a506-4efe-bddc-d54f861a5c58",
   "metadata": {},
   "outputs": [
    {
     "name": "stdout",
     "output_type": "stream",
     "text": [
      "<class 'pandas.core.frame.DataFrame'>\n",
      "Index: 222629898 entries, 0 to 291\n",
      "Data columns (total 4 columns):\n",
      " #   Column      Dtype         \n",
      "---  ------      -----         \n",
      " 0   user_id     int32         \n",
      " 1   track_id    int32         \n",
      " 2   track_seq   int16         \n",
      " 3   started_at  datetime64[ns]\n",
      "dtypes: datetime64[ns](1), int16(1), int32(2)\n",
      "memory usage: 5.4 GB\n"
     ]
    }
   ],
   "source": [
    "interactions.info()"
   ]
  },
  {
   "cell_type": "code",
   "execution_count": 124,
   "id": "8ca72654-e3b7-4f7a-a340-2e77bdd43b29",
   "metadata": {},
   "outputs": [
    {
     "data": {
      "text/html": [
       "<div>\n",
       "<style scoped>\n",
       "    .dataframe tbody tr th:only-of-type {\n",
       "        vertical-align: middle;\n",
       "    }\n",
       "\n",
       "    .dataframe tbody tr th {\n",
       "        vertical-align: top;\n",
       "    }\n",
       "\n",
       "    .dataframe thead th {\n",
       "        text-align: right;\n",
       "    }\n",
       "</style>\n",
       "<table border=\"1\" class=\"dataframe\">\n",
       "  <thead>\n",
       "    <tr style=\"text-align: right;\">\n",
       "      <th></th>\n",
       "      <th>user_id</th>\n",
       "      <th>track_id</th>\n",
       "      <th>track_seq</th>\n",
       "      <th>started_at</th>\n",
       "    </tr>\n",
       "  </thead>\n",
       "  <tbody>\n",
       "    <tr>\n",
       "      <th>130</th>\n",
       "      <td>844258</td>\n",
       "      <td>3581309</td>\n",
       "      <td>131</td>\n",
       "      <td>2022-06-05</td>\n",
       "    </tr>\n",
       "    <tr>\n",
       "      <th>433</th>\n",
       "      <td>1091434</td>\n",
       "      <td>14937363</td>\n",
       "      <td>434</td>\n",
       "      <td>2022-06-29</td>\n",
       "    </tr>\n",
       "    <tr>\n",
       "      <th>526</th>\n",
       "      <td>73981</td>\n",
       "      <td>48591660</td>\n",
       "      <td>527</td>\n",
       "      <td>2022-09-26</td>\n",
       "    </tr>\n",
       "    <tr>\n",
       "      <th>9</th>\n",
       "      <td>78605</td>\n",
       "      <td>732405</td>\n",
       "      <td>10</td>\n",
       "      <td>2022-09-14</td>\n",
       "    </tr>\n",
       "    <tr>\n",
       "      <th>1202</th>\n",
       "      <td>1273064</td>\n",
       "      <td>40339506</td>\n",
       "      <td>1203</td>\n",
       "      <td>2022-08-24</td>\n",
       "    </tr>\n",
       "  </tbody>\n",
       "</table>\n",
       "</div>"
      ],
      "text/plain": [
       "      user_id  track_id  track_seq started_at\n",
       "130    844258   3581309        131 2022-06-05\n",
       "433   1091434  14937363        434 2022-06-29\n",
       "526     73981  48591660        527 2022-09-26\n",
       "9       78605    732405         10 2022-09-14\n",
       "1202  1273064  40339506       1203 2022-08-24"
      ]
     },
     "execution_count": 124,
     "metadata": {},
     "output_type": "execute_result"
    }
   ],
   "source": [
    "interactions.sample(5, random_state=42)"
   ]
  },
  {
   "cell_type": "code",
   "execution_count": 125,
   "id": "ed19e7c4-5fff-4cdb-ac8f-296d09b29992",
   "metadata": {},
   "outputs": [
    {
     "data": {
      "text/html": [
       "<div>\n",
       "<style scoped>\n",
       "    .dataframe tbody tr th:only-of-type {\n",
       "        vertical-align: middle;\n",
       "    }\n",
       "\n",
       "    .dataframe tbody tr th {\n",
       "        vertical-align: top;\n",
       "    }\n",
       "\n",
       "    .dataframe thead th {\n",
       "        text-align: right;\n",
       "    }\n",
       "</style>\n",
       "<table border=\"1\" class=\"dataframe\">\n",
       "  <thead>\n",
       "    <tr style=\"text-align: right;\">\n",
       "      <th></th>\n",
       "      <th>user_id</th>\n",
       "      <th>track_id</th>\n",
       "      <th>track_seq</th>\n",
       "      <th>started_at</th>\n",
       "      <th>albums</th>\n",
       "      <th>artists</th>\n",
       "      <th>genres</th>\n",
       "    </tr>\n",
       "  </thead>\n",
       "  <tbody>\n",
       "    <tr>\n",
       "      <th>0</th>\n",
       "      <td>844258</td>\n",
       "      <td>9610</td>\n",
       "      <td>1</td>\n",
       "      <td>2022-05-19</td>\n",
       "      <td>[967, 1208, 5950, 5981, 9341, 10703, 23866, 67...</td>\n",
       "      <td>[451]</td>\n",
       "      <td>[11]</td>\n",
       "    </tr>\n",
       "    <tr>\n",
       "      <th>1</th>\n",
       "      <td>844258</td>\n",
       "      <td>12080</td>\n",
       "      <td>2</td>\n",
       "      <td>2022-05-19</td>\n",
       "      <td>[1158, 1826, 2800, 4234, 7045, 621326, 6929419...</td>\n",
       "      <td>[3465, 5639]</td>\n",
       "      <td>[74]</td>\n",
       "    </tr>\n",
       "    <tr>\n",
       "      <th>2</th>\n",
       "      <td>844258</td>\n",
       "      <td>34608</td>\n",
       "      <td>3</td>\n",
       "      <td>2022-05-19</td>\n",
       "      <td>[2874, 6352, 7270, 8476, 87789, 87791, 2488490...</td>\n",
       "      <td>[9278]</td>\n",
       "      <td>[41, 47]</td>\n",
       "    </tr>\n",
       "    <tr>\n",
       "      <th>3</th>\n",
       "      <td>844258</td>\n",
       "      <td>37475</td>\n",
       "      <td>4</td>\n",
       "      <td>2022-05-19</td>\n",
       "      <td>[3109, 3487, 4739, 9825, 10748, 9210251, 92102...</td>\n",
       "      <td>[5976]</td>\n",
       "      <td>[13]</td>\n",
       "    </tr>\n",
       "    <tr>\n",
       "      <th>4</th>\n",
       "      <td>844258</td>\n",
       "      <td>47680</td>\n",
       "      <td>5</td>\n",
       "      <td>2022-05-19</td>\n",
       "      <td>[3919, 4202, 4489, 4864, 5796, 6218, 10748, 37...</td>\n",
       "      <td>[5976]</td>\n",
       "      <td>[13]</td>\n",
       "    </tr>\n",
       "    <tr>\n",
       "      <th>...</th>\n",
       "      <td>...</td>\n",
       "      <td>...</td>\n",
       "      <td>...</td>\n",
       "      <td>...</td>\n",
       "      <td>...</td>\n",
       "      <td>...</td>\n",
       "      <td>...</td>\n",
       "    </tr>\n",
       "    <tr>\n",
       "      <th>1200</th>\n",
       "      <td>844258</td>\n",
       "      <td>98123699</td>\n",
       "      <td>1201</td>\n",
       "      <td>2022-11-06</td>\n",
       "      <td>[20327103]</td>\n",
       "      <td>[3749834]</td>\n",
       "      <td>[11]</td>\n",
       "    </tr>\n",
       "    <tr>\n",
       "      <th>1201</th>\n",
       "      <td>844258</td>\n",
       "      <td>99779643</td>\n",
       "      <td>1202</td>\n",
       "      <td>2022-11-06</td>\n",
       "      <td>[20875901]</td>\n",
       "      <td>[6005099, 5458792]</td>\n",
       "      <td>[70]</td>\n",
       "    </tr>\n",
       "    <tr>\n",
       "      <th>1202</th>\n",
       "      <td>844258</td>\n",
       "      <td>99911813</td>\n",
       "      <td>1203</td>\n",
       "      <td>2022-11-06</td>\n",
       "      <td>[20910238]</td>\n",
       "      <td>[8553938]</td>\n",
       "      <td>[6, 70]</td>\n",
       "    </tr>\n",
       "    <tr>\n",
       "      <th>1203</th>\n",
       "      <td>844258</td>\n",
       "      <td>100215030</td>\n",
       "      <td>1204</td>\n",
       "      <td>2022-11-06</td>\n",
       "      <td>[21007097]</td>\n",
       "      <td>[3146056]</td>\n",
       "      <td>[6, 70]</td>\n",
       "    </tr>\n",
       "    <tr>\n",
       "      <th>1204</th>\n",
       "      <td>844258</td>\n",
       "      <td>100717939</td>\n",
       "      <td>1205</td>\n",
       "      <td>2022-11-07</td>\n",
       "      <td>[21169681]</td>\n",
       "      <td>[5811881, 15970138]</td>\n",
       "      <td>[13]</td>\n",
       "    </tr>\n",
       "  </tbody>\n",
       "</table>\n",
       "<p>1205 rows × 7 columns</p>\n",
       "</div>"
      ],
      "text/plain": [
       "      user_id   track_id  track_seq started_at  \\\n",
       "0      844258       9610          1 2022-05-19   \n",
       "1      844258      12080          2 2022-05-19   \n",
       "2      844258      34608          3 2022-05-19   \n",
       "3      844258      37475          4 2022-05-19   \n",
       "4      844258      47680          5 2022-05-19   \n",
       "...       ...        ...        ...        ...   \n",
       "1200   844258   98123699       1201 2022-11-06   \n",
       "1201   844258   99779643       1202 2022-11-06   \n",
       "1202   844258   99911813       1203 2022-11-06   \n",
       "1203   844258  100215030       1204 2022-11-06   \n",
       "1204   844258  100717939       1205 2022-11-07   \n",
       "\n",
       "                                                 albums              artists  \\\n",
       "0     [967, 1208, 5950, 5981, 9341, 10703, 23866, 67...                [451]   \n",
       "1     [1158, 1826, 2800, 4234, 7045, 621326, 6929419...         [3465, 5639]   \n",
       "2     [2874, 6352, 7270, 8476, 87789, 87791, 2488490...               [9278]   \n",
       "3     [3109, 3487, 4739, 9825, 10748, 9210251, 92102...               [5976]   \n",
       "4     [3919, 4202, 4489, 4864, 5796, 6218, 10748, 37...               [5976]   \n",
       "...                                                 ...                  ...   \n",
       "1200                                         [20327103]            [3749834]   \n",
       "1201                                         [20875901]   [6005099, 5458792]   \n",
       "1202                                         [20910238]            [8553938]   \n",
       "1203                                         [21007097]            [3146056]   \n",
       "1204                                         [21169681]  [5811881, 15970138]   \n",
       "\n",
       "        genres  \n",
       "0         [11]  \n",
       "1         [74]  \n",
       "2     [41, 47]  \n",
       "3         [13]  \n",
       "4         [13]  \n",
       "...        ...  \n",
       "1200      [11]  \n",
       "1201      [70]  \n",
       "1202   [6, 70]  \n",
       "1203   [6, 70]  \n",
       "1204      [13]  \n",
       "\n",
       "[1205 rows x 7 columns]"
      ]
     },
     "execution_count": 125,
     "metadata": {},
     "output_type": "execute_result"
    }
   ],
   "source": [
    "interactions[interactions['user_id'] == 844258] \\\n",
    "    .merge(tracks, on='track_id')"
   ]
  },
  {
   "cell_type": "code",
   "execution_count": 126,
   "id": "b6455b8d-cb79-44ec-b57c-fb14bcf4fd1f",
   "metadata": {},
   "outputs": [
    {
     "data": {
      "text/html": [
       "<div>\n",
       "<style scoped>\n",
       "    .dataframe tbody tr th:only-of-type {\n",
       "        vertical-align: middle;\n",
       "    }\n",
       "\n",
       "    .dataframe tbody tr th {\n",
       "        vertical-align: top;\n",
       "    }\n",
       "\n",
       "    .dataframe thead th {\n",
       "        text-align: right;\n",
       "    }\n",
       "</style>\n",
       "<table border=\"1\" class=\"dataframe\">\n",
       "  <thead>\n",
       "    <tr style=\"text-align: right;\">\n",
       "      <th></th>\n",
       "      <th>user_id</th>\n",
       "      <th>track_id</th>\n",
       "      <th>track_seq</th>\n",
       "      <th>started_at</th>\n",
       "    </tr>\n",
       "  </thead>\n",
       "  <tbody>\n",
       "    <tr>\n",
       "      <th>count</th>\n",
       "      <td>2.226299e+08</td>\n",
       "      <td>2.226299e+08</td>\n",
       "      <td>2.226299e+08</td>\n",
       "      <td>222629898</td>\n",
       "    </tr>\n",
       "    <tr>\n",
       "      <th>mean</th>\n",
       "      <td>6.875767e+05</td>\n",
       "      <td>3.653622e+07</td>\n",
       "      <td>4.621403e+02</td>\n",
       "      <td>2022-08-29 16:39:44.541336320</td>\n",
       "    </tr>\n",
       "    <tr>\n",
       "      <th>min</th>\n",
       "      <td>0.000000e+00</td>\n",
       "      <td>2.600000e+01</td>\n",
       "      <td>1.000000e+00</td>\n",
       "      <td>2022-01-01 00:00:00</td>\n",
       "    </tr>\n",
       "    <tr>\n",
       "      <th>25%</th>\n",
       "      <td>3.433710e+05</td>\n",
       "      <td>1.480849e+07</td>\n",
       "      <td>5.600000e+01</td>\n",
       "      <td>2022-07-02 00:00:00</td>\n",
       "    </tr>\n",
       "    <tr>\n",
       "      <th>50%</th>\n",
       "      <td>6.879730e+05</td>\n",
       "      <td>3.552474e+07</td>\n",
       "      <td>1.810000e+02</td>\n",
       "      <td>2022-09-15 00:00:00</td>\n",
       "    </tr>\n",
       "    <tr>\n",
       "      <th>75%</th>\n",
       "      <td>1.031127e+06</td>\n",
       "      <td>5.651137e+07</td>\n",
       "      <td>5.060000e+02</td>\n",
       "      <td>2022-11-09 00:00:00</td>\n",
       "    </tr>\n",
       "    <tr>\n",
       "      <th>max</th>\n",
       "      <td>1.374582e+06</td>\n",
       "      <td>1.015218e+08</td>\n",
       "      <td>1.663700e+04</td>\n",
       "      <td>2022-12-31 00:00:00</td>\n",
       "    </tr>\n",
       "    <tr>\n",
       "      <th>std</th>\n",
       "      <td>3.969033e+05</td>\n",
       "      <td>2.661782e+07</td>\n",
       "      <td>8.257312e+02</td>\n",
       "      <td>NaN</td>\n",
       "    </tr>\n",
       "  </tbody>\n",
       "</table>\n",
       "</div>"
      ],
      "text/plain": [
       "            user_id      track_id     track_seq                     started_at\n",
       "count  2.226299e+08  2.226299e+08  2.226299e+08                      222629898\n",
       "mean   6.875767e+05  3.653622e+07  4.621403e+02  2022-08-29 16:39:44.541336320\n",
       "min    0.000000e+00  2.600000e+01  1.000000e+00            2022-01-01 00:00:00\n",
       "25%    3.433710e+05  1.480849e+07  5.600000e+01            2022-07-02 00:00:00\n",
       "50%    6.879730e+05  3.552474e+07  1.810000e+02            2022-09-15 00:00:00\n",
       "75%    1.031127e+06  5.651137e+07  5.060000e+02            2022-11-09 00:00:00\n",
       "max    1.374582e+06  1.015218e+08  1.663700e+04            2022-12-31 00:00:00\n",
       "std    3.969033e+05  2.661782e+07  8.257312e+02                            NaN"
      ]
     },
     "execution_count": 126,
     "metadata": {},
     "output_type": "execute_result"
    }
   ],
   "source": [
    "interactions.describe()"
   ]
  },
  {
   "cell_type": "code",
   "execution_count": 127,
   "id": "7956d0c9-372a-489b-9b18-3d184d40bb12",
   "metadata": {},
   "outputs": [
    {
     "data": {
      "text/plain": [
       "user_id       0\n",
       "track_id      0\n",
       "track_seq     0\n",
       "started_at    0\n",
       "dtype: int64"
      ]
     },
     "execution_count": 127,
     "metadata": {},
     "output_type": "execute_result"
    }
   ],
   "source": [
    "# Проверяем пропуски\n",
    "interactions.isna().sum()"
   ]
  },
  {
   "cell_type": "code",
   "execution_count": 128,
   "id": "1aad44c7-f8d3-4339-b291-540fc9cff6d4",
   "metadata": {},
   "outputs": [
    {
     "data": {
      "text/plain": [
       "222629898"
      ]
     },
     "execution_count": 128,
     "metadata": {},
     "output_type": "execute_result"
    }
   ],
   "source": [
    "# Количество взаимодействий\n",
    "len(interactions)"
   ]
  },
  {
   "cell_type": "code",
   "execution_count": 129,
   "id": "57007d61-bdd1-4f4b-9182-d2ba8d1f55ff",
   "metadata": {},
   "outputs": [
    {
     "data": {
      "text/plain": [
       "1373221"
      ]
     },
     "execution_count": 129,
     "metadata": {},
     "output_type": "execute_result"
    }
   ],
   "source": [
    "# Количество уникальных пользователей\n",
    "interactions['user_id'].nunique()"
   ]
  },
  {
   "cell_type": "markdown",
   "id": "318b573a-9e2d-4808-95db-60cfb8bbdb73",
   "metadata": {
    "editable": true,
    "slideshow": {
     "slide_type": ""
    },
    "tags": []
   },
   "source": [
    "# Выводы"
   ]
  },
  {
   "cell_type": "markdown",
   "id": "caa96e12-36a8-4401-8f11-98627a49ae9d",
   "metadata": {},
   "source": [
    "Приведём выводы по первому знакомству с данными:\n",
    "- есть ли с данными явные проблемы,\n",
    "- какие корректирующие действия (в целом) были предприняты."
   ]
  },
  {
   "cell_type": "markdown",
   "id": "f8dffc3d-7941-4374-b045-2950ac1fa9a0",
   "metadata": {},
   "source": [
    "В таблице `tracks` есть элементы с пропущенными значениями жанров/альбомов/артистов, однако их удалять не обязательно. В остальном в даных нет существенных пропусков и дубликатов данных."
   ]
  },
  {
   "cell_type": "markdown",
   "id": "68d85c5e-f990-4b00-a7ba-4f67c3cca69d",
   "metadata": {},
   "source": [
    "В таблице с `catalog_names` для колонки \"type\" был заменен тип данных на category. Остальные типы данных, включая идентификаторы, соответствуют оперируемым значениям. "
   ]
  },
  {
   "cell_type": "markdown",
   "id": "7bc3296b-eba6-4333-a78d-b9304aa87e3d",
   "metadata": {},
   "source": [
    "# === ЭТАП 2 ==="
   ]
  },
  {
   "cell_type": "markdown",
   "id": "68e73960-fd38-4e15-8db0-9a25c35dfd25",
   "metadata": {},
   "source": [
    "# EDA"
   ]
  },
  {
   "cell_type": "markdown",
   "id": "a30e823e-8e0f-4a76-a02e-8d1ba8bf0f8a",
   "metadata": {},
   "source": [
    "Распределение количества прослушанных треков."
   ]
  },
  {
   "cell_type": "code",
   "execution_count": 134,
   "id": "31e25705-5396-4d43-a748-10249065b3c1",
   "metadata": {},
   "outputs": [
    {
     "data": {
      "image/png": "[encoded data removed]",
      "text/plain": [
       "<Figure size 640x480 with 1 Axes>"
      ]
     },
     "metadata": {
      "image/png": {
       "height": 432,
       "width": 569
      }
     },
     "output_type": "display_data"
    }
   ],
   "source": [
    "# Распределение всех прослушанных треков\n",
    "ax = interactions['track_id'].value_counts().hist(bins=100, log=True)\n",
    "\n",
    "ax.set_xlabel(\"Трек\")\n",
    "ax.set_ylabel(\"Количество прослушиваний (log)\")\n",
    "plt.show()"
   ]
  },
  {
   "cell_type": "markdown",
   "id": "d765519a-18dd-4d30-9e29-cc2d84cacd79",
   "metadata": {},
   "source": [
    "Наиболее популярные треки"
   ]
  },
  {
   "cell_type": "code",
   "execution_count": 135,
   "id": "aecaf630-fde0-4860-b84a-42c933a9606e",
   "metadata": {},
   "outputs": [],
   "source": [
    "top_items = pd.DataFrame(interactions['track_id'].value_counts()) \\\n",
    "    .join(catalog_names.set_index('id')) \\\n",
    "    .sort_values('count', ascending=False)"
   ]
  },
  {
   "cell_type": "code",
   "execution_count": 136,
   "id": "9d408667-3b05-48c5-9ae4-b4445e9bac2b",
   "metadata": {},
   "outputs": [
    {
     "data": {
      "text/html": [
       "<div>\n",
       "<style scoped>\n",
       "    .dataframe tbody tr th:only-of-type {\n",
       "        vertical-align: middle;\n",
       "    }\n",
       "\n",
       "    .dataframe tbody tr th {\n",
       "        vertical-align: top;\n",
       "    }\n",
       "\n",
       "    .dataframe thead th {\n",
       "        text-align: right;\n",
       "    }\n",
       "</style>\n",
       "<table border=\"1\" class=\"dataframe\">\n",
       "  <thead>\n",
       "    <tr style=\"text-align: right;\">\n",
       "      <th></th>\n",
       "      <th>count</th>\n",
       "      <th>type</th>\n",
       "      <th>name</th>\n",
       "    </tr>\n",
       "    <tr>\n",
       "      <th>track_id</th>\n",
       "      <th></th>\n",
       "      <th></th>\n",
       "      <th></th>\n",
       "    </tr>\n",
       "  </thead>\n",
       "  <tbody>\n",
       "    <tr>\n",
       "      <th>53404</th>\n",
       "      <td>111062</td>\n",
       "      <td>track</td>\n",
       "      <td>Smells Like Teen Spirit</td>\n",
       "    </tr>\n",
       "    <tr>\n",
       "      <th>33311009</th>\n",
       "      <td>106921</td>\n",
       "      <td>track</td>\n",
       "      <td>Believer</td>\n",
       "    </tr>\n",
       "    <tr>\n",
       "      <th>178529</th>\n",
       "      <td>101924</td>\n",
       "      <td>track</td>\n",
       "      <td>Numb</td>\n",
       "    </tr>\n",
       "    <tr>\n",
       "      <th>35505245</th>\n",
       "      <td>99490</td>\n",
       "      <td>track</td>\n",
       "      <td>I Got Love</td>\n",
       "    </tr>\n",
       "    <tr>\n",
       "      <th>65851540</th>\n",
       "      <td>86670</td>\n",
       "      <td>track</td>\n",
       "      <td>Юность</td>\n",
       "    </tr>\n",
       "    <tr>\n",
       "      <th>24692821</th>\n",
       "      <td>86246</td>\n",
       "      <td>track</td>\n",
       "      <td>Way Down We Go</td>\n",
       "    </tr>\n",
       "    <tr>\n",
       "      <th>32947997</th>\n",
       "      <td>85886</td>\n",
       "      <td>track</td>\n",
       "      <td>Shape of You</td>\n",
       "    </tr>\n",
       "    <tr>\n",
       "      <th>51241318</th>\n",
       "      <td>85244</td>\n",
       "      <td>track</td>\n",
       "      <td>In The End</td>\n",
       "    </tr>\n",
       "    <tr>\n",
       "      <th>795836</th>\n",
       "      <td>85042</td>\n",
       "      <td>track</td>\n",
       "      <td>Shape Of My Heart</td>\n",
       "    </tr>\n",
       "    <tr>\n",
       "      <th>45499814</th>\n",
       "      <td>84748</td>\n",
       "      <td>track</td>\n",
       "      <td>Life</td>\n",
       "    </tr>\n",
       "  </tbody>\n",
       "</table>\n",
       "</div>"
      ],
      "text/plain": [
       "           count   type                     name\n",
       "track_id                                        \n",
       "53404     111062  track  Smells Like Teen Spirit\n",
       "33311009  106921  track                 Believer\n",
       "178529    101924  track                     Numb\n",
       "35505245   99490  track               I Got Love\n",
       "65851540   86670  track                   Юность\n",
       "24692821   86246  track           Way Down We Go\n",
       "32947997   85886  track             Shape of You\n",
       "51241318   85244  track               In The End\n",
       "795836     85042  track        Shape Of My Heart\n",
       "45499814   84748  track                     Life"
      ]
     },
     "execution_count": 136,
     "metadata": {},
     "output_type": "execute_result"
    }
   ],
   "source": [
    "top_items[top_items['type'] == 'track'].head(10)"
   ]
  },
  {
   "cell_type": "markdown",
   "id": "b1c32a5a-d3be-4f96-8dd9-f7860951020c",
   "metadata": {},
   "source": [
    "Наиболее популярные жанры"
   ]
  },
  {
   "cell_type": "code",
   "execution_count": 137,
   "id": "1bc50491-9235-4d3c-a6c2-297f7c05a959",
   "metadata": {},
   "outputs": [],
   "source": [
    "genres_counts = top_items.join(tracks).explode('genres')['genres'].value_counts()"
   ]
  },
  {
   "cell_type": "code",
   "execution_count": 138,
   "id": "09c804f3-5dc6-4a24-a5d6-3744dfb24735",
   "metadata": {},
   "outputs": [
    {
     "data": {
      "text/html": [
       "<div>\n",
       "<style scoped>\n",
       "    .dataframe tbody tr th:only-of-type {\n",
       "        vertical-align: middle;\n",
       "    }\n",
       "\n",
       "    .dataframe tbody tr th {\n",
       "        vertical-align: top;\n",
       "    }\n",
       "\n",
       "    .dataframe thead th {\n",
       "        text-align: right;\n",
       "    }\n",
       "</style>\n",
       "<table border=\"1\" class=\"dataframe\">\n",
       "  <thead>\n",
       "    <tr style=\"text-align: right;\">\n",
       "      <th></th>\n",
       "      <th>count</th>\n",
       "      <th>name</th>\n",
       "    </tr>\n",
       "    <tr>\n",
       "      <th>genres</th>\n",
       "      <th></th>\n",
       "      <th></th>\n",
       "    </tr>\n",
       "  </thead>\n",
       "  <tbody>\n",
       "    <tr>\n",
       "      <th>11</th>\n",
       "      <td>171768</td>\n",
       "      <td>pop</td>\n",
       "    </tr>\n",
       "    <tr>\n",
       "      <th>75</th>\n",
       "      <td>129815</td>\n",
       "      <td>rap</td>\n",
       "    </tr>\n",
       "    <tr>\n",
       "      <th>102</th>\n",
       "      <td>124214</td>\n",
       "      <td>allrock</td>\n",
       "    </tr>\n",
       "    <tr>\n",
       "      <th>68</th>\n",
       "      <td>115864</td>\n",
       "      <td>electronics</td>\n",
       "    </tr>\n",
       "    <tr>\n",
       "      <th>47</th>\n",
       "      <td>74998</td>\n",
       "      <td>metal</td>\n",
       "    </tr>\n",
       "    <tr>\n",
       "      <th>3</th>\n",
       "      <td>66175</td>\n",
       "      <td>rusrap</td>\n",
       "    </tr>\n",
       "    <tr>\n",
       "      <th>44</th>\n",
       "      <td>61144</td>\n",
       "      <td>foreignrap</td>\n",
       "    </tr>\n",
       "    <tr>\n",
       "      <th>14</th>\n",
       "      <td>59098</td>\n",
       "      <td>rock</td>\n",
       "    </tr>\n",
       "    <tr>\n",
       "      <th>16</th>\n",
       "      <td>52167</td>\n",
       "      <td>dance</td>\n",
       "    </tr>\n",
       "    <tr>\n",
       "      <th>20</th>\n",
       "      <td>47076</td>\n",
       "      <td>ruspop</td>\n",
       "    </tr>\n",
       "  </tbody>\n",
       "</table>\n",
       "</div>"
      ],
      "text/plain": [
       "         count         name\n",
       "genres                     \n",
       "11      171768          pop\n",
       "75      129815          rap\n",
       "102     124214      allrock\n",
       "68      115864  electronics\n",
       "47       74998        metal\n",
       "3        66175       rusrap\n",
       "44       61144   foreignrap\n",
       "14       59098         rock\n",
       "16       52167        dance\n",
       "20       47076       ruspop"
      ]
     },
     "execution_count": 138,
     "metadata": {},
     "output_type": "execute_result"
    }
   ],
   "source": [
    "top_genres = pd.DataFrame(genres_counts).join(catalog_names[catalog_names['type'] == 'genre'].set_index('id')['name'])\n",
    "top_genres.head(10)"
   ]
  },
  {
   "cell_type": "markdown",
   "id": "15254e66-e80e-473b-ba24-abebea5ccac7",
   "metadata": {},
   "source": [
    "Треки, которые никто не прослушал"
   ]
  },
  {
   "cell_type": "code",
   "execution_count": 139,
   "id": "6a23ba10-7c8c-45ab-a10b-8ecd8929ca48",
   "metadata": {},
   "outputs": [
    {
     "data": {
      "text/html": [
       "<div>\n",
       "<style scoped>\n",
       "    .dataframe tbody tr th:only-of-type {\n",
       "        vertical-align: middle;\n",
       "    }\n",
       "\n",
       "    .dataframe tbody tr th {\n",
       "        vertical-align: top;\n",
       "    }\n",
       "\n",
       "    .dataframe thead th {\n",
       "        text-align: right;\n",
       "    }\n",
       "</style>\n",
       "<table border=\"1\" class=\"dataframe\">\n",
       "  <thead>\n",
       "    <tr style=\"text-align: right;\">\n",
       "      <th></th>\n",
       "      <th>albums</th>\n",
       "      <th>artists</th>\n",
       "      <th>genres</th>\n",
       "    </tr>\n",
       "    <tr>\n",
       "      <th>track_id</th>\n",
       "      <th></th>\n",
       "      <th></th>\n",
       "      <th></th>\n",
       "    </tr>\n",
       "  </thead>\n",
       "  <tbody>\n",
       "  </tbody>\n",
       "</table>\n",
       "</div>"
      ],
      "text/plain": [
       "Empty DataFrame\n",
       "Columns: [albums, artists, genres]\n",
       "Index: []"
      ]
     },
     "execution_count": 139,
     "metadata": {},
     "output_type": "execute_result"
    }
   ],
   "source": [
    "tracks[~tracks.index.isin(interactions['track_id'])]"
   ]
  },
  {
   "cell_type": "markdown",
   "id": "a269e232-d5c9-40ae-a3e2-541d7398a55d",
   "metadata": {},
   "source": [
    "Все треки были прослушаны хотя бы одним пользователем"
   ]
  },
  {
   "cell_type": "markdown",
   "id": "0d850a07-ef1e-462f-891a-1cf89f2e24ef",
   "metadata": {},
   "source": [
    "# Преобразование данных"
   ]
  },
  {
   "cell_type": "markdown",
   "id": "fabcf8d2-1192-4df5-b20b-fbb84689f57a",
   "metadata": {},
   "source": [
    "Преобразуем данные в формат, более пригодный для дальнейшего использования в расчётах рекомендаций."
   ]
  },
  {
   "cell_type": "code",
   "execution_count": 141,
   "id": "a425556a-9382-45ca-a04e-f1981a522126",
   "metadata": {},
   "outputs": [],
   "source": [
    "# Оставляем только пользователей, которые слушали больше одного трека\n",
    "atleast_two_interactions = interactions[['user_id']].groupby('user_id').size().to_frame('size')\n",
    "atleast_two_interactions = atleast_two_interactions[atleast_two_interactions['size'] >= 2]"
   ]
  },
  {
   "cell_type": "code",
   "execution_count": 142,
   "id": "e81dbac6-9ae6-468d-9e8e-2aefd1ab26d8",
   "metadata": {},
   "outputs": [],
   "source": [
    "interactions = interactions[interactions['user_id'].isin(atleast_two_interactions.index)]"
   ]
  },
  {
   "cell_type": "code",
   "execution_count": 143,
   "id": "cde0ffaa-87e2-4051-aa9d-dbb16d098ed5",
   "metadata": {},
   "outputs": [],
   "source": [
    "# В данных присутствуют треки без жанров/альбомов/артистов. Удаляем их из tracks и events\n",
    "no_genres_track_ids = set(tracks[tracks['genres'].str.len() == 0].index)\n",
    "no_albums_track_ids = set(tracks[tracks['albums'].str.len() == 0].index)\n",
    "no_artists_track_ids = set(tracks[tracks['artists'].str.len() == 0].index)"
   ]
  },
  {
   "cell_type": "code",
   "execution_count": 144,
   "id": "b4f7424d-888a-469c-9649-5b4cd20915b5",
   "metadata": {},
   "outputs": [
    {
     "name": "stdout",
     "output_type": "stream",
     "text": [
      "Количество треков без жанров: 3687\n",
      "Количество треков без альбомов: 18\n",
      "Количество треков без исполнителей: 15369\n"
     ]
    }
   ],
   "source": [
    "print('Количество треков без жанров:', len(no_genres_track_ids))\n",
    "print('Количество треков без альбомов:', len(no_albums_track_ids))\n",
    "print('Количество треков без исполнителей:', len(no_artists_track_ids))"
   ]
  },
  {
   "cell_type": "code",
   "execution_count": 145,
   "id": "29cb1f32-5cc7-4fd0-80c7-558dcd8d7664",
   "metadata": {},
   "outputs": [],
   "source": [
    "track_ids_to_delete = no_genres_track_ids.union(no_albums_track_ids).union(no_artists_track_ids)"
   ]
  },
  {
   "cell_type": "code",
   "execution_count": 146,
   "id": "f267b65d-eb5d-4dd1-8e3e-1cd90448ee39",
   "metadata": {},
   "outputs": [
    {
     "data": {
      "text/plain": [
       "19023"
      ]
     },
     "execution_count": 146,
     "metadata": {},
     "output_type": "execute_result"
    }
   ],
   "source": [
    "len(track_ids_to_delete)"
   ]
  },
  {
   "cell_type": "code",
   "execution_count": 147,
   "id": "144c4f70-1fd3-43da-aee8-ea9c4396a8d6",
   "metadata": {},
   "outputs": [],
   "source": [
    "# Заметим что три множества практически не пересекаются"
   ]
  },
  {
   "cell_type": "code",
   "execution_count": 148,
   "id": "8196eb14-3372-4ba1-a7d5-552e1eed5f77",
   "metadata": {},
   "outputs": [],
   "source": [
    "interactions = interactions[~interactions['track_id'].isin(no_genres_track_ids)]"
   ]
  },
  {
   "cell_type": "code",
   "execution_count": 149,
   "id": "b4125a02-a8b0-4337-b956-fa40b3aa852b",
   "metadata": {},
   "outputs": [],
   "source": [
    "tracks = tracks[~tracks.index.isin(no_genres_track_ids)]"
   ]
  },
  {
   "cell_type": "code",
   "execution_count": 154,
   "id": "fbf8145a-49d8-4508-9d27-cacfae370631",
   "metadata": {},
   "outputs": [],
   "source": [
    "# Переименуем track_id в item_id\n",
    "interactions.rename(columns={'track_id': 'item_id'}, inplace=True)"
   ]
  },
  {
   "cell_type": "markdown",
   "id": "4d1be653-eed8-4fa0-a9c5-3811b080d71d",
   "metadata": {},
   "source": [
    "# Сохранение данных"
   ]
  },
  {
   "cell_type": "markdown",
   "id": "36f1314a-3af3-4faf-a0b1-3045173d1500",
   "metadata": {},
   "source": [
    "Сохраним данные в двух файлах в персональном S3-бакете по пути `recsys/data/`:\n",
    "- `items.parquet` — все данные о музыкальных треках,\n",
    "- `events.parquet` — все данные о взаимодействиях."
   ]
  },
  {
   "cell_type": "code",
   "execution_count": 157,
   "id": "9f77af17-7705-4fae-9aad-db579b39faad",
   "metadata": {},
   "outputs": [],
   "source": [
    "tracks.to_parquet(\"items.parquet\")\n",
    "interactions.to_parquet(\"events.parquet\")"
   ]
  },
  {
   "cell_type": "code",
   "execution_count": 96,
   "id": "45187a79-7f76-408f-86fb-5f6bf2cc0740",
   "metadata": {},
   "outputs": [],
   "source": [
    "upload_to_s3('items.parquet', aws_bucket_name)\n",
    "upload_to_s3('events.parquet', aws_bucket_name)"
   ]
  },
  {
   "cell_type": "markdown",
   "id": "72ecbbed-c560-44d9-9c14-86c7dc76f399",
   "metadata": {},
   "source": [
    "# Очистка памяти"
   ]
  },
  {
   "cell_type": "markdown",
   "id": "b5358ede-ba6e-4c4f-bd73-5b9344f0ba79",
   "metadata": {},
   "source": [
    "Здесь, может понадобится очистка памяти для высвобождения ресурсов для выполнения кода ниже. \n",
    "\n",
    "Приведите соответствующие код, комментарии, например:\n",
    "- код для удаление более ненужных переменных,\n",
    "- комментарий, что следует перезапустить kernel, выполнить такие-то начальные секции и продолжить с этапа 3."
   ]
  },
  {
   "cell_type": "code",
   "execution_count": 158,
   "id": "767fe920-e12e-4ad8-b04e-56e8091fac9f",
   "metadata": {},
   "outputs": [],
   "source": [
    "del tracks\n",
    "del interactions\n",
    "del genres_counts\n",
    "del track_ids_to_delete\n",
    "del atleast_two_interactions\n",
    "del no_genres_track_ids\n",
    "del no_albums_track_ids\n",
    "del no_artists_track_ids"
   ]
  },
  {
   "cell_type": "markdown",
   "id": "c5b9e8a1-6909-434f-8ece-bb1f5358be59",
   "metadata": {},
   "source": [
    "Далее:\n",
    "1. Перезагрузить kernel.\n",
    "2. Заново импортировать зависимости\n",
    "3. Выполнить код до этапа 1"
   ]
  },
  {
   "cell_type": "markdown",
   "id": "708503df-ee89-4cf3-8489-093dc478e2a8",
   "metadata": {},
   "source": [
    "# === ЭТАП 3 ==="
   ]
  },
  {
   "cell_type": "markdown",
   "id": "fd77de22-e10f-4b42-85c1-8fb6f805fe68",
   "metadata": {},
   "source": [
    "# Загрузка данных"
   ]
  },
  {
   "cell_type": "markdown",
   "id": "780a4241-1ecd-4a3e-bbb3-fc2f6ca94f68",
   "metadata": {},
   "source": [
    "Если необходимо, то загружаем items.parquet, events.parquet."
   ]
  },
  {
   "cell_type": "code",
   "execution_count": 15,
   "id": "f19fc8a5-bd2c-40d7-864a-ee75aca6d512",
   "metadata": {},
   "outputs": [],
   "source": [
    "items = pd.read_parquet(\"items.parquet\")\n",
    "events = pd.read_parquet(\"events.parquet\")"
   ]
  },
  {
   "cell_type": "markdown",
   "id": "a694c023-6477-490b-939d-1cfa6f5f1b72",
   "metadata": {},
   "source": [
    "# Разбиение данных"
   ]
  },
  {
   "cell_type": "markdown",
   "id": "fbd5f6e0-54e7-4428-8678-eabce505d82c",
   "metadata": {},
   "source": [
    "Разбиваем данные на тренировочную, тестовую выборки."
   ]
  },
  {
   "cell_type": "code",
   "execution_count": 16,
   "id": "00c2dfa5-d8a2-47d1-922e-6eefee2c62d1",
   "metadata": {},
   "outputs": [],
   "source": [
    "# зададим точку разбиения\n",
    "train_test_global_time_split_date = pd.Timestamp(\"2022-12-16\")\n",
    "\n",
    "train_test_global_time_split_idx = events[\"started_at\"] < train_test_global_time_split_date\n",
    "events_train = events[train_test_global_time_split_idx]\n",
    "events_test = events[~train_test_global_time_split_idx]"
   ]
  },
  {
   "cell_type": "code",
   "execution_count": 6,
   "id": "e5d23978-0340-4138-8b40-e804f20351c9",
   "metadata": {},
   "outputs": [
    {
     "name": "stdout",
     "output_type": "stream",
     "text": [
      "Количество пользователей в train 1341725\n",
      "Количество пользователей в test 783212\n"
     ]
    }
   ],
   "source": [
    "# количество пользователей в train и test\n",
    "users_train = events_train[\"user_id\"].drop_duplicates()\n",
    "users_test = events_test[\"user_id\"].drop_duplicates()\n",
    "\n",
    "print('Количество пользователей в train', len(users_train))\n",
    "print('Количество пользователей в test', len(users_test))"
   ]
  },
  {
   "cell_type": "code",
   "execution_count": 5,
   "id": "c166cbba-4c08-4f16-9353-017a9a5bc9b5",
   "metadata": {},
   "outputs": [
    {
     "name": "stdout",
     "output_type": "stream",
     "text": [
      "Количество холодных пользователей 30624\n"
     ]
    }
   ],
   "source": [
    "cold_users = set(users_test) - set(users_train)\n",
    "print('Количество холодных пользователей', len(cold_users))"
   ]
  },
  {
   "cell_type": "code",
   "execution_count": 6,
   "id": "2e7c99a8-83ca-469b-89a3-0d33cda4317c",
   "metadata": {},
   "outputs": [],
   "source": [
    "del events\n",
    "del users_train\n",
    "del users_test\n",
    "del train_test_global_time_split_idx"
   ]
  },
  {
   "cell_type": "code",
   "execution_count": 17,
   "id": "6f45ffed-0cac-44cb-a0a5-25db9790d9af",
   "metadata": {},
   "outputs": [],
   "source": [
    "events_train.to_parquet('events_train.parquet')\n",
    "events_test.to_parquet('events_test.parquet')"
   ]
  },
  {
   "cell_type": "markdown",
   "id": "9131c7e6-8852-4556-b510-51f7253cc299",
   "metadata": {},
   "source": [
    "# Топ популярных"
   ]
  },
  {
   "cell_type": "markdown",
   "id": "dd70d43a-88cc-4719-b291-feaed7136f30",
   "metadata": {},
   "source": [
    "Рассчитаем рекомендации как топ популярных."
   ]
  },
  {
   "cell_type": "code",
   "execution_count": 9,
   "id": "ee45e200-b7d6-4f56-9077-aad431689b96",
   "metadata": {},
   "outputs": [],
   "source": [
    "item_popularity = events_train \\\n",
    "    .groupby([\"item_id\"]).agg(total_plays=(\"user_id\", \"size\")).reset_index()\n",
    "\n",
    "# сортируем по убыванию популярности\n",
    "item_popularity = item_popularity.sort_values(by=['total_plays'], ascending=False)\n",
    "\n",
    "# выбираем первые 100 треков\n",
    "top_popular = item_popularity.join(catalog_names.set_index('id'), how=\"left\", on=\"item_id\")"
   ]
  },
  {
   "cell_type": "code",
   "execution_count": 10,
   "id": "7690c86f-7aa9-46ed-bba5-2c837626411e",
   "metadata": {},
   "outputs": [
    {
     "data": {
      "text/html": [
       "<div>\n",
       "<style scoped>\n",
       "    .dataframe tbody tr th:only-of-type {\n",
       "        vertical-align: middle;\n",
       "    }\n",
       "\n",
       "    .dataframe tbody tr th {\n",
       "        vertical-align: top;\n",
       "    }\n",
       "\n",
       "    .dataframe thead th {\n",
       "        text-align: right;\n",
       "    }\n",
       "</style>\n",
       "<table border=\"1\" class=\"dataframe\">\n",
       "  <thead>\n",
       "    <tr style=\"text-align: right;\">\n",
       "      <th></th>\n",
       "      <th>item_id</th>\n",
       "      <th>total_plays</th>\n",
       "      <th>type</th>\n",
       "      <th>name</th>\n",
       "    </tr>\n",
       "  </thead>\n",
       "  <tbody>\n",
       "    <tr>\n",
       "      <th>9092</th>\n",
       "      <td>53404</td>\n",
       "      <td>110025</td>\n",
       "      <td>track</td>\n",
       "      <td>Smells Like Teen Spirit</td>\n",
       "    </tr>\n",
       "    <tr>\n",
       "      <th>481779</th>\n",
       "      <td>33311009</td>\n",
       "      <td>101075</td>\n",
       "      <td>track</td>\n",
       "      <td>Believer</td>\n",
       "    </tr>\n",
       "    <tr>\n",
       "      <th>26638</th>\n",
       "      <td>178529</td>\n",
       "      <td>100866</td>\n",
       "      <td>track</td>\n",
       "      <td>Numb</td>\n",
       "    </tr>\n",
       "    <tr>\n",
       "      <th>509970</th>\n",
       "      <td>35505245</td>\n",
       "      <td>95523</td>\n",
       "      <td>track</td>\n",
       "      <td>I Got Love</td>\n",
       "    </tr>\n",
       "    <tr>\n",
       "      <th>366397</th>\n",
       "      <td>24692821</td>\n",
       "      <td>84153</td>\n",
       "      <td>track</td>\n",
       "      <td>Way Down We Go</td>\n",
       "    </tr>\n",
       "    <tr>\n",
       "      <th>90176</th>\n",
       "      <td>795836</td>\n",
       "      <td>83749</td>\n",
       "      <td>track</td>\n",
       "      <td>Shape Of My Heart</td>\n",
       "    </tr>\n",
       "    <tr>\n",
       "      <th>196532</th>\n",
       "      <td>6705392</td>\n",
       "      <td>80608</td>\n",
       "      <td>track</td>\n",
       "      <td>Seven Nation Army</td>\n",
       "    </tr>\n",
       "    <tr>\n",
       "      <th>473215</th>\n",
       "      <td>32947997</td>\n",
       "      <td>80243</td>\n",
       "      <td>track</td>\n",
       "      <td>Shape of You</td>\n",
       "    </tr>\n",
       "    <tr>\n",
       "      <th>6554</th>\n",
       "      <td>37384</td>\n",
       "      <td>79512</td>\n",
       "      <td>track</td>\n",
       "      <td>Zombie</td>\n",
       "    </tr>\n",
       "    <tr>\n",
       "      <th>644545</th>\n",
       "      <td>45499814</td>\n",
       "      <td>78563</td>\n",
       "      <td>track</td>\n",
       "      <td>Life</td>\n",
       "    </tr>\n",
       "  </tbody>\n",
       "</table>\n",
       "</div>"
      ],
      "text/plain": [
       "         item_id  total_plays   type                     name\n",
       "9092       53404       110025  track  Smells Like Teen Spirit\n",
       "481779  33311009       101075  track                 Believer\n",
       "26638     178529       100866  track                     Numb\n",
       "509970  35505245        95523  track               I Got Love\n",
       "366397  24692821        84153  track           Way Down We Go\n",
       "90176     795836        83749  track        Shape Of My Heart\n",
       "196532   6705392        80608  track        Seven Nation Army\n",
       "473215  32947997        80243  track             Shape of You\n",
       "6554       37384        79512  track                   Zombie\n",
       "644545  45499814        78563  track                     Life"
      ]
     },
     "execution_count": 10,
     "metadata": {},
     "output_type": "execute_result"
    }
   ],
   "source": [
    "top_popular.head(10)"
   ]
  },
  {
   "cell_type": "code",
   "execution_count": 12,
   "id": "d4426784-7099-44f5-8ced-64a5fbd63127",
   "metadata": {},
   "outputs": [],
   "source": [
    "cold_users_events_with_recs = \\\n",
    "    events_test[events_test[\"user_id\"].isin(cold_users)] \\\n",
    "    .merge(top_popular, on=\"item_id\", how=\"left\")\n",
    "\n",
    "cold_user_items_no_total_plays_idx = cold_users_events_with_recs[\"total_plays\"].isnull()\n",
    "cold_user_recs = cold_users_events_with_recs[~cold_user_items_no_total_plays_idx] \\\n",
    "    [[\"user_id\", \"item_id\"]]"
   ]
  },
  {
   "cell_type": "code",
   "execution_count": 13,
   "id": "d0d79b3d-fab8-4493-ae2e-8eb5df1581e9",
   "metadata": {},
   "outputs": [
    {
     "data": {
      "text/plain": [
       "11"
      ]
     },
     "execution_count": 13,
     "metadata": {},
     "output_type": "execute_result"
    }
   ],
   "source": [
    "cold_user_items_no_total_plays_idx.sum()"
   ]
  },
  {
   "cell_type": "code",
   "execution_count": 14,
   "id": "c684d56e-c927-46bd-92b7-f8411edd4534",
   "metadata": {},
   "outputs": [
    {
     "data": {
      "text/plain": [
       "1134261"
      ]
     },
     "execution_count": 14,
     "metadata": {},
     "output_type": "execute_result"
    }
   ],
   "source": [
    "len(cold_users_events_with_recs)"
   ]
  },
  {
   "cell_type": "code",
   "execution_count": 15,
   "id": "fb42afe0-6508-4e13-9cd1-eea380444114",
   "metadata": {},
   "outputs": [],
   "source": [
    "top_popular.to_parquet(\"top_popular.parquet\")"
   ]
  },
  {
   "cell_type": "code",
   "execution_count": 16,
   "id": "c9ca830e-dede-475e-9aa4-c28dac86e4f0",
   "metadata": {},
   "outputs": [],
   "source": [
    "upload_to_s3('top_popular.parquet', aws_bucket_name)"
   ]
  },
  {
   "cell_type": "markdown",
   "id": "2ad231f2-6158-421a-b7fa-01d8bc3ed572",
   "metadata": {},
   "source": [
    "# Персональные"
   ]
  },
  {
   "cell_type": "markdown",
   "id": "86159460-cd9d-4b63-8248-604ea3c9aebf",
   "metadata": {},
   "source": [
    "Рассчитаем персональные рекомендации."
   ]
  },
  {
   "cell_type": "code",
   "execution_count": 46,
   "id": "27c1d661-431f-49aa-84df-2fb549991bf8",
   "metadata": {},
   "outputs": [
    {
     "name": "stderr",
     "output_type": "stream",
     "text": [
      "/tmp/ipykernel_1995/247484189.py:5: SettingWithCopyWarning: \n",
      "A value is trying to be set on a copy of a slice from a DataFrame.\n",
      "Try using .loc[row_indexer,col_indexer] = value instead\n",
      "\n",
      "See the caveats in the documentation: https://pandas.pydata.org/pandas-docs/stable/user_guide/indexing.html#returning-a-view-versus-a-copy\n",
      "  events_train[\"user_id_enc\"] = user_encoder.transform(events_train[\"user_id\"])\n",
      "/tmp/ipykernel_1995/247484189.py:6: SettingWithCopyWarning: \n",
      "A value is trying to be set on a copy of a slice from a DataFrame.\n",
      "Try using .loc[row_indexer,col_indexer] = value instead\n",
      "\n",
      "See the caveats in the documentation: https://pandas.pydata.org/pandas-docs/stable/user_guide/indexing.html#returning-a-view-versus-a-copy\n",
      "  events_test[\"user_id_enc\"] = user_encoder.transform(events_test[\"user_id\"])\n"
     ]
    }
   ],
   "source": [
    "# Перекодируем идентификаторы пользователей: \n",
    "# из имеющихся в последовательность 0, 1, 2, ...\n",
    "user_encoder = sklearn.preprocessing.LabelEncoder()\n",
    "user_encoder.fit(events[\"user_id\"])\n",
    "events_train[\"user_id_enc\"] = user_encoder.transform(events_train[\"user_id\"])\n",
    "events_test[\"user_id_enc\"] = user_encoder.transform(events_test[\"user_id\"])"
   ]
  },
  {
   "cell_type": "code",
   "execution_count": 47,
   "id": "247fded2-7192-4750-ab31-fa42b4be4f9e",
   "metadata": {},
   "outputs": [
    {
     "name": "stderr",
     "output_type": "stream",
     "text": [
      "/tmp/ipykernel_1995/4063965159.py:6: SettingWithCopyWarning: \n",
      "A value is trying to be set on a copy of a slice from a DataFrame.\n",
      "Try using .loc[row_indexer,col_indexer] = value instead\n",
      "\n",
      "See the caveats in the documentation: https://pandas.pydata.org/pandas-docs/stable/user_guide/indexing.html#returning-a-view-versus-a-copy\n",
      "  events_train[\"item_id_enc\"] = item_encoder.transform(events_train[\"item_id\"])\n",
      "/tmp/ipykernel_1995/4063965159.py:7: SettingWithCopyWarning: \n",
      "A value is trying to be set on a copy of a slice from a DataFrame.\n",
      "Try using .loc[row_indexer,col_indexer] = value instead\n",
      "\n",
      "See the caveats in the documentation: https://pandas.pydata.org/pandas-docs/stable/user_guide/indexing.html#returning-a-view-versus-a-copy\n",
      "  events_test[\"item_id_enc\"] = item_encoder.transform(events_test[\"item_id\"])\n"
     ]
    }
   ],
   "source": [
    "# перекодируем идентификаторы объектов: \n",
    "# из имеющихся в последовательность 0, 1, 2, ...\n",
    "item_encoder = sklearn.preprocessing.LabelEncoder()\n",
    "item_encoder.fit(items.index)\n",
    "items[\"item_id_enc\"] = item_encoder.transform(items.index)\n",
    "events_train[\"item_id_enc\"] = item_encoder.transform(events_train[\"item_id\"])\n",
    "events_test[\"item_id_enc\"] = item_encoder.transform(events_test[\"item_id\"])"
   ]
  },
  {
   "cell_type": "code",
   "execution_count": 49,
   "id": "bbae6507-e4d0-47ca-a560-39fcebfdc76b",
   "metadata": {},
   "outputs": [],
   "source": [
    "# создаём sparse-матрицу формата CSR \n",
    "user_item_matrix_train = scipy.sparse.csr_matrix((\n",
    "    np.ones(len(events_train)),\n",
    "    (events_train['user_id_enc'], events_train['item_id_enc'])),\n",
    "    dtype=np.int8)"
   ]
  },
  {
   "cell_type": "code",
   "execution_count": 50,
   "id": "6c034e83-7d84-40c8-bf2e-b74cc6042da0",
   "metadata": {},
   "outputs": [],
   "source": [
    "from implicit.als import AlternatingLeastSquares "
   ]
  },
  {
   "cell_type": "code",
   "execution_count": 51,
   "id": "a0b64e69-771c-4ce8-b1b7-40b17d968609",
   "metadata": {},
   "outputs": [
    {
     "name": "stderr",
     "output_type": "stream",
     "text": [
      "/home/mle-user/mle_projects/mle-project-sprint-4-v001/env_recsys_start/lib/python3.10/site-packages/implicit/cpu/als.py:95: RuntimeWarning: OpenBLAS is configured to use 4 threads. It is highly recommended to disable its internal threadpool by setting the environment variable 'OPENBLAS_NUM_THREADS=1' or by calling 'threadpoolctl.threadpool_limits(1, \"blas\")'. Having OpenBLAS use a threadpool can lead to severe performance issues here.\n",
      "  check_blas_config()\n"
     ]
    },
    {
     "data": {
      "application/vnd.jupyter.widget-view+json": {
       "model_id": "64719a13df514f8492894526c395db52",
       "version_major": 2,
       "version_minor": 0
      },
      "text/plain": [
       "  0%|          | 0/15 [00:00<?, ?it/s]"
      ]
     },
     "metadata": {},
     "output_type": "display_data"
    }
   ],
   "source": [
    "als_model = AlternatingLeastSquares(random_state=42)\n",
    "als_model.fit(user_item_matrix_train)"
   ]
  },
  {
   "cell_type": "code",
   "execution_count": 29,
   "id": "4dd93194-840d-4a08-9f48-5fc9a81f17cc",
   "metadata": {},
   "outputs": [],
   "source": [
    "def get_recommendations_als(user_item_matrix, model, user_id, user_encoder, item_encoder, include_seen=True, n=5):\n",
    "    \"\"\"\n",
    "    Возвращает отранжированные рекомендации для заданного пользователя\n",
    "    \"\"\"\n",
    "    user_id_enc = user_encoder.transform([user_id])[0]\n",
    "    recommendations = model.recommend(\n",
    "         user_id_enc, \n",
    "         user_item_matrix[user_id_enc], \n",
    "         filter_already_liked_items=not include_seen,\n",
    "         N=n)\n",
    "    recommendations = pd.DataFrame({\"item_id_enc\": recommendations[0], \"score\": recommendations[1]})\n",
    "    recommendations[\"item_id\"] = item_encoder.inverse_transform(recommendations[\"item_id_enc\"])\n",
    "    \n",
    "    return recommendations "
   ]
  },
  {
   "cell_type": "code",
   "execution_count": 30,
   "id": "eb765eff-e043-4a6a-b843-68ea22affcd0",
   "metadata": {},
   "outputs": [
    {
     "data": {
      "text/html": [
       "<div>\n",
       "<style scoped>\n",
       "    .dataframe tbody tr th:only-of-type {\n",
       "        vertical-align: middle;\n",
       "    }\n",
       "\n",
       "    .dataframe tbody tr th {\n",
       "        vertical-align: top;\n",
       "    }\n",
       "\n",
       "    .dataframe thead th {\n",
       "        text-align: right;\n",
       "    }\n",
       "</style>\n",
       "<table border=\"1\" class=\"dataframe\">\n",
       "  <thead>\n",
       "    <tr style=\"text-align: right;\">\n",
       "      <th></th>\n",
       "      <th>item_id_enc</th>\n",
       "      <th>score</th>\n",
       "      <th>item_id</th>\n",
       "    </tr>\n",
       "  </thead>\n",
       "  <tbody>\n",
       "    <tr>\n",
       "      <th>0</th>\n",
       "      <td>90176</td>\n",
       "      <td>0.533699</td>\n",
       "      <td>795836</td>\n",
       "    </tr>\n",
       "    <tr>\n",
       "      <th>1</th>\n",
       "      <td>577144</td>\n",
       "      <td>0.502370</td>\n",
       "      <td>39946957</td>\n",
       "    </tr>\n",
       "    <tr>\n",
       "      <th>2</th>\n",
       "      <td>706949</td>\n",
       "      <td>0.497972</td>\n",
       "      <td>52380688</td>\n",
       "    </tr>\n",
       "    <tr>\n",
       "      <th>3</th>\n",
       "      <td>746957</td>\n",
       "      <td>0.466844</td>\n",
       "      <td>56920237</td>\n",
       "    </tr>\n",
       "    <tr>\n",
       "      <th>4</th>\n",
       "      <td>542289</td>\n",
       "      <td>0.390239</td>\n",
       "      <td>37641523</td>\n",
       "    </tr>\n",
       "  </tbody>\n",
       "</table>\n",
       "</div>"
      ],
      "text/plain": [
       "   item_id_enc     score   item_id\n",
       "0        90176  0.533699    795836\n",
       "1       577144  0.502370  39946957\n",
       "2       706949  0.497972  52380688\n",
       "3       746957  0.466844  56920237\n",
       "4       542289  0.390239  37641523"
      ]
     },
     "execution_count": 30,
     "metadata": {},
     "output_type": "execute_result"
    }
   ],
   "source": [
    "# Получим рекомендации для случайного пользователя\n",
    "user_id = events_test.sample(random_state=42).user_id.iat[0]\n",
    "get_recommendations_als(\n",
    "    user_item_matrix=user_item_matrix_train,\n",
    "    model=als_model,\n",
    "    user_id=user_id,\n",
    "    user_encoder=user_encoder,\n",
    "    item_encoder=item_encoder,\n",
    "    include_seen=False,\n",
    "    n=5\n",
    ")"
   ]
  },
  {
   "cell_type": "code",
   "execution_count": 9,
   "id": "9e896e3b-b14c-42a0-9029-546de6a5b7e4",
   "metadata": {},
   "outputs": [],
   "source": [
    "del events\n",
    "del items"
   ]
  },
  {
   "cell_type": "code",
   "execution_count": 70,
   "id": "a562e361-6a53-4bb6-9421-c580cb47a37a",
   "metadata": {},
   "outputs": [],
   "source": [
    "user_ids_encoded = range(len(user_encoder.classes_) - 1)"
   ]
  },
  {
   "cell_type": "code",
   "execution_count": 34,
   "id": "7a10836c-65cc-4469-82f0-d4def20256b4",
   "metadata": {},
   "outputs": [],
   "source": [
    "item_ids_enc = als_recommendations[0]\n",
    "als_scores = als_recommendations[1]"
   ]
  },
  {
   "cell_type": "code",
   "execution_count": 33,
   "id": "4d571f92-be8f-4a6d-aa10-b734ddd8434e",
   "metadata": {},
   "outputs": [],
   "source": [
    "# Получим рекомендации для всех пользователей\n",
    "als_recommendations = als_model.recommend(\n",
    "    user_ids_encoded,\n",
    "    user_item_matrix_train[user_ids_encoded],\n",
    "    filter_already_liked_items=False, N=10)"
   ]
  },
  {
   "cell_type": "code",
   "execution_count": 35,
   "id": "54ee2648-e0f9-4334-98ee-7d17b546f44e",
   "metadata": {},
   "outputs": [],
   "source": [
    "als_recommendations = pd.DataFrame({\n",
    "    \"user_id_enc\": user_ids_encoded,\n",
    "    \"item_id_enc\": item_ids_enc.tolist(), \n",
    "    \"score\": als_scores.tolist()})"
   ]
  },
  {
   "cell_type": "code",
   "execution_count": 36,
   "id": "4390f736-712c-4bc8-9f7f-cf17b6206a6f",
   "metadata": {},
   "outputs": [],
   "source": [
    "als_recommendations.to_parquet(\"als_recommendations.parquet\")"
   ]
  },
  {
   "cell_type": "code",
   "execution_count": 37,
   "id": "fedbece0-2208-40c5-9ce2-1ced93827202",
   "metadata": {},
   "outputs": [],
   "source": [
    "als_recommendations = als_recommendations.explode([\"item_id_enc\", \"score\"], ignore_index=True)"
   ]
  },
  {
   "cell_type": "code",
   "execution_count": 38,
   "id": "64a777d2-66f4-46e7-bbac-151d055d6a03",
   "metadata": {},
   "outputs": [],
   "source": [
    "# приводим типы данных\n",
    "als_recommendations[\"item_id_enc\"] = als_recommendations[\"item_id_enc\"].astype(\"int\")\n",
    "als_recommendations[\"score\"] = als_recommendations[\"score\"].astype(\"float\")\n",
    "\n",
    "# получаем изначальные идентификаторы\n",
    "als_recommendations[\"user_id\"] = user_encoder.inverse_transform(als_recommendations[\"user_id_enc\"])\n",
    "als_recommendations[\"item_id\"] = item_encoder.inverse_transform(als_recommendations[\"item_id_enc\"])\n",
    "als_recommendations = als_recommendations.drop(columns=[\"user_id_enc\", \"item_id_enc\"])"
   ]
  },
  {
   "cell_type": "code",
   "execution_count": 39,
   "id": "28e490b6-1c29-477d-bb0b-66014e924d0a",
   "metadata": {},
   "outputs": [],
   "source": [
    "als_recommendations.to_parquet(\"personal_als.parquet\")"
   ]
  },
  {
   "cell_type": "code",
   "execution_count": 40,
   "id": "4da5df05-179f-40c4-8d95-0adec9c6c9e1",
   "metadata": {},
   "outputs": [],
   "source": [
    "del als_recommendations"
   ]
  },
  {
   "cell_type": "code",
   "execution_count": 41,
   "id": "705e990a-7179-48ca-af62-bf04a9aa40ab",
   "metadata": {},
   "outputs": [],
   "source": [
    "upload_to_s3('personal_als.parquet', aws_bucket_name)"
   ]
  },
  {
   "cell_type": "markdown",
   "id": "5f09dc7e-7c91-4355-860a-b9cfb9f33f15",
   "metadata": {},
   "source": [
    "# Похожие"
   ]
  },
  {
   "cell_type": "markdown",
   "id": "1dfcb683-b440-40a8-9975-894156a53872",
   "metadata": {},
   "source": [
    "Рассчитаем похожие, они позже пригодятся для онлайн-рекомендаций."
   ]
  },
  {
   "cell_type": "code",
   "execution_count": 42,
   "id": "b53030d7-393a-4ba9-8fe2-3828b3d79c1a",
   "metadata": {},
   "outputs": [],
   "source": [
    "item_ids_encoded = range(len(item_encoder.classes_) - 1)\n",
    "\n",
    "similar = als_model.similar_items(item_ids_encoded)"
   ]
  },
  {
   "cell_type": "code",
   "execution_count": 44,
   "id": "f188dc18-9fb0-4f7f-bf9f-61f10e5ba0bb",
   "metadata": {},
   "outputs": [],
   "source": [
    "similar_item_ids_enc = similar[0]\n",
    "als_similar_scores = similar[1]"
   ]
  },
  {
   "cell_type": "code",
   "execution_count": 48,
   "id": "98292198-2813-4a44-83d4-88efc814de82",
   "metadata": {},
   "outputs": [],
   "source": [
    "als_similar = pd.DataFrame({\n",
    "    \"item_id_enc\": item_ids_encoded,\n",
    "    \"recomendations_enc\": similar_item_ids_enc.tolist(), \n",
    "    \"score\": als_similar_scores.tolist()})"
   ]
  },
  {
   "cell_type": "code",
   "execution_count": 49,
   "id": "1ef0aa4a-fd37-48e0-b179-9f626322a474",
   "metadata": {},
   "outputs": [],
   "source": [
    "als_similar = als_similar.explode([\"recomendations_enc\", \"score\"], ignore_index=True)"
   ]
  },
  {
   "cell_type": "code",
   "execution_count": 50,
   "id": "74188c76-4795-47ed-ad2e-2e7f24a99109",
   "metadata": {},
   "outputs": [],
   "source": [
    "# приводим типы данных\n",
    "als_similar[\"item_id_enc\"] = als_similar[\"item_id_enc\"].astype(\"int\")\n",
    "als_similar[\"recomendations_enc\"] = als_similar[\"recomendations_enc\"].astype(\"int\")\n",
    "als_similar[\"score\"] = als_similar[\"score\"].astype(\"float\")"
   ]
  },
  {
   "cell_type": "code",
   "execution_count": 51,
   "id": "ea8e3092-3560-457b-86c9-ca35cf0b15b4",
   "metadata": {},
   "outputs": [],
   "source": [
    "# получаем изначальные идентификаторы\n",
    "als_similar[\"item_id\"] = item_encoder.inverse_transform(als_similar[\"item_id_enc\"])\n",
    "als_similar[\"recomendations\"] = item_encoder.inverse_transform(als_similar[\"recomendations_enc\"])\n",
    "als_similar = als_similar.drop(columns=[\"item_id_enc\", \"recomendations_enc\"])"
   ]
  },
  {
   "cell_type": "code",
   "execution_count": 52,
   "id": "7385e2ab-4a34-4d0a-ae08-218604516383",
   "metadata": {},
   "outputs": [],
   "source": [
    "als_similar.to_parquet(\"similar.parquet\")"
   ]
  },
  {
   "cell_type": "code",
   "execution_count": 53,
   "id": "ce370904-4c49-4152-8706-416074ea9b9a",
   "metadata": {},
   "outputs": [],
   "source": [
    "upload_to_s3('similar.parquet', aws_bucket_name)"
   ]
  },
  {
   "cell_type": "code",
   "execution_count": 54,
   "id": "c96db34d-ef43-4afb-8884-143bb94adecd",
   "metadata": {},
   "outputs": [
    {
     "data": {
      "text/html": [
       "<div>\n",
       "<style scoped>\n",
       "    .dataframe tbody tr th:only-of-type {\n",
       "        vertical-align: middle;\n",
       "    }\n",
       "\n",
       "    .dataframe tbody tr th {\n",
       "        vertical-align: top;\n",
       "    }\n",
       "\n",
       "    .dataframe thead th {\n",
       "        text-align: right;\n",
       "    }\n",
       "</style>\n",
       "<table border=\"1\" class=\"dataframe\">\n",
       "  <thead>\n",
       "    <tr style=\"text-align: right;\">\n",
       "      <th></th>\n",
       "      <th>score</th>\n",
       "      <th>item_id</th>\n",
       "      <th>recomendations</th>\n",
       "      <th>type</th>\n",
       "      <th>name</th>\n",
       "    </tr>\n",
       "  </thead>\n",
       "  <tbody>\n",
       "    <tr>\n",
       "      <th>90920</th>\n",
       "      <td>1.000000</td>\n",
       "      <td>53404</td>\n",
       "      <td>53404</td>\n",
       "      <td>track</td>\n",
       "      <td>Smells Like Teen Spirit</td>\n",
       "    </tr>\n",
       "    <tr>\n",
       "      <th>90921</th>\n",
       "      <td>0.766780</td>\n",
       "      <td>53404</td>\n",
       "      <td>36246</td>\n",
       "      <td>track</td>\n",
       "      <td>Rape Me</td>\n",
       "    </tr>\n",
       "    <tr>\n",
       "      <th>90922</th>\n",
       "      <td>0.733113</td>\n",
       "      <td>53404</td>\n",
       "      <td>6705392</td>\n",
       "      <td>track</td>\n",
       "      <td>Seven Nation Army</td>\n",
       "    </tr>\n",
       "    <tr>\n",
       "      <th>90923</th>\n",
       "      <td>0.728408</td>\n",
       "      <td>53404</td>\n",
       "      <td>53412</td>\n",
       "      <td>track</td>\n",
       "      <td>Come As You Are</td>\n",
       "    </tr>\n",
       "    <tr>\n",
       "      <th>90924</th>\n",
       "      <td>0.728162</td>\n",
       "      <td>53404</td>\n",
       "      <td>2394203</td>\n",
       "      <td>track</td>\n",
       "      <td>I Want to Hold Your Hand</td>\n",
       "    </tr>\n",
       "    <tr>\n",
       "      <th>90925</th>\n",
       "      <td>0.723065</td>\n",
       "      <td>53404</td>\n",
       "      <td>18453377</td>\n",
       "      <td>track</td>\n",
       "      <td>С нами Бог (Солист - Михаил Минский)</td>\n",
       "    </tr>\n",
       "    <tr>\n",
       "      <th>90926</th>\n",
       "      <td>0.653819</td>\n",
       "      <td>53404</td>\n",
       "      <td>96089</td>\n",
       "      <td>track</td>\n",
       "      <td>Song 2</td>\n",
       "    </tr>\n",
       "    <tr>\n",
       "      <th>90927</th>\n",
       "      <td>0.650090</td>\n",
       "      <td>53404</td>\n",
       "      <td>37384</td>\n",
       "      <td>track</td>\n",
       "      <td>Zombie</td>\n",
       "    </tr>\n",
       "    <tr>\n",
       "      <th>90928</th>\n",
       "      <td>0.648200</td>\n",
       "      <td>53404</td>\n",
       "      <td>53405</td>\n",
       "      <td>track</td>\n",
       "      <td>Lithium</td>\n",
       "    </tr>\n",
       "    <tr>\n",
       "      <th>90929</th>\n",
       "      <td>0.608108</td>\n",
       "      <td>53404</td>\n",
       "      <td>137887</td>\n",
       "      <td>track</td>\n",
       "      <td>What'd I Say</td>\n",
       "    </tr>\n",
       "  </tbody>\n",
       "</table>\n",
       "</div>"
      ],
      "text/plain": [
       "          score  item_id  recomendations   type  \\\n",
       "90920  1.000000    53404           53404  track   \n",
       "90921  0.766780    53404           36246  track   \n",
       "90922  0.733113    53404         6705392  track   \n",
       "90923  0.728408    53404           53412  track   \n",
       "90924  0.728162    53404         2394203  track   \n",
       "90925  0.723065    53404        18453377  track   \n",
       "90926  0.653819    53404           96089  track   \n",
       "90927  0.650090    53404           37384  track   \n",
       "90928  0.648200    53404           53405  track   \n",
       "90929  0.608108    53404          137887  track   \n",
       "\n",
       "                                       name  \n",
       "90920               Smells Like Teen Spirit  \n",
       "90921                               Rape Me  \n",
       "90922                     Seven Nation Army  \n",
       "90923                       Come As You Are  \n",
       "90924              I Want to Hold Your Hand  \n",
       "90925  С нами Бог (Солист - Михаил Минский)  \n",
       "90926                                Song 2  \n",
       "90927                                Zombie  \n",
       "90928                               Lithium  \n",
       "90929                          What'd I Say  "
      ]
     },
     "execution_count": 54,
     "metadata": {},
     "output_type": "execute_result"
    }
   ],
   "source": [
    "# Для проверки найдем треки похожие на Smells Like Teen Spirit\n",
    "als_similar[als_similar['item_id'] == 53404].join(catalog_names.set_index(\"id\"), how=\"left\", on=\"recomendations\")"
   ]
  },
  {
   "cell_type": "code",
   "execution_count": 55,
   "id": "a3ab28a8-d402-43db-8817-307d62882b2c",
   "metadata": {},
   "outputs": [],
   "source": [
    "del als_similar"
   ]
  },
  {
   "cell_type": "markdown",
   "id": "0087a3e7-ca9f-42cd-944c-944222c1baef",
   "metadata": {},
   "source": [
    "# Построение признаков"
   ]
  },
  {
   "cell_type": "markdown",
   "id": "e82a32e1-b90b-4eaf-9439-fc8deab9f34b",
   "metadata": {},
   "source": [
    "Построим три признака, можно больше, для ранжирующей модели."
   ]
  },
  {
   "cell_type": "code",
   "execution_count": 8,
   "id": "45708976-1d81-4071-adab-2d75bee4ede9",
   "metadata": {},
   "outputs": [],
   "source": [
    "top_popular = pd.read_parquet('top_popular.parquet')\n",
    "als_recommendations = pd.read_parquet('personal_als.parquet')"
   ]
  },
  {
   "cell_type": "markdown",
   "id": "987d3cb8-d20f-4911-9a72-59cbf9529636",
   "metadata": {},
   "source": [
    "В качестве первого признака возьмем рекомендации от ALS-модели.\n",
    "\n",
    "В качестве второго признака возьмем топ по прослушиваниям."
   ]
  },
  {
   "cell_type": "code",
   "execution_count": 10,
   "id": "abc2f6cb-bb40-4747-9ed3-50339dc7d55a",
   "metadata": {},
   "outputs": [
    {
     "data": {
      "text/html": [
       "<div>\n",
       "<style scoped>\n",
       "    .dataframe tbody tr th:only-of-type {\n",
       "        vertical-align: middle;\n",
       "    }\n",
       "\n",
       "    .dataframe tbody tr th {\n",
       "        vertical-align: top;\n",
       "    }\n",
       "\n",
       "    .dataframe thead th {\n",
       "        text-align: right;\n",
       "    }\n",
       "</style>\n",
       "<table border=\"1\" class=\"dataframe\">\n",
       "  <thead>\n",
       "    <tr style=\"text-align: right;\">\n",
       "      <th></th>\n",
       "      <th>item_id</th>\n",
       "      <th>score</th>\n",
       "    </tr>\n",
       "  </thead>\n",
       "  <tbody>\n",
       "    <tr>\n",
       "      <th>0</th>\n",
       "      <td>53404</td>\n",
       "      <td>1</td>\n",
       "    </tr>\n",
       "    <tr>\n",
       "      <th>1</th>\n",
       "      <td>33311009</td>\n",
       "      <td>2</td>\n",
       "    </tr>\n",
       "    <tr>\n",
       "      <th>2</th>\n",
       "      <td>178529</td>\n",
       "      <td>3</td>\n",
       "    </tr>\n",
       "    <tr>\n",
       "      <th>3</th>\n",
       "      <td>35505245</td>\n",
       "      <td>4</td>\n",
       "    </tr>\n",
       "    <tr>\n",
       "      <th>4</th>\n",
       "      <td>24692821</td>\n",
       "      <td>5</td>\n",
       "    </tr>\n",
       "  </tbody>\n",
       "</table>\n",
       "</div>"
      ],
      "text/plain": [
       "    item_id  score\n",
       "0     53404      1\n",
       "1  33311009      2\n",
       "2    178529      3\n",
       "3  35505245      4\n",
       "4  24692821      5"
      ]
     },
     "execution_count": 10,
     "metadata": {},
     "output_type": "execute_result"
    }
   ],
   "source": [
    "# Приведем топ популярных к удобному для работы формату\n",
    "top_popular.reset_index(drop=True, inplace=True)\n",
    "top_popular['score'] = top_popular.index + 1\n",
    "top_popular = top_popular[['item_id', 'score']]\n",
    "\n",
    "top_popular.head(5)"
   ]
  },
  {
   "cell_type": "code",
   "execution_count": 11,
   "id": "679f8106-052b-46fd-b166-59e81277443c",
   "metadata": {},
   "outputs": [
    {
     "data": {
      "text/html": [
       "<div>\n",
       "<style scoped>\n",
       "    .dataframe tbody tr th:only-of-type {\n",
       "        vertical-align: middle;\n",
       "    }\n",
       "\n",
       "    .dataframe tbody tr th {\n",
       "        vertical-align: top;\n",
       "    }\n",
       "\n",
       "    .dataframe thead th {\n",
       "        text-align: right;\n",
       "    }\n",
       "</style>\n",
       "<table border=\"1\" class=\"dataframe\">\n",
       "  <thead>\n",
       "    <tr style=\"text-align: right;\">\n",
       "      <th></th>\n",
       "      <th>user_id</th>\n",
       "      <th>item_id</th>\n",
       "      <th>score</th>\n",
       "    </tr>\n",
       "  </thead>\n",
       "  <tbody>\n",
       "    <tr>\n",
       "      <th>0</th>\n",
       "      <td>0</td>\n",
       "      <td>597196</td>\n",
       "      <td>582</td>\n",
       "    </tr>\n",
       "    <tr>\n",
       "      <th>1</th>\n",
       "      <td>0</td>\n",
       "      <td>18860</td>\n",
       "      <td>133</td>\n",
       "    </tr>\n",
       "    <tr>\n",
       "      <th>2</th>\n",
       "      <td>0</td>\n",
       "      <td>21101463</td>\n",
       "      <td>1291</td>\n",
       "    </tr>\n",
       "    <tr>\n",
       "      <th>3</th>\n",
       "      <td>0</td>\n",
       "      <td>29213451</td>\n",
       "      <td>157</td>\n",
       "    </tr>\n",
       "    <tr>\n",
       "      <th>4</th>\n",
       "      <td>0</td>\n",
       "      <td>27077792</td>\n",
       "      <td>432</td>\n",
       "    </tr>\n",
       "  </tbody>\n",
       "</table>\n",
       "</div>"
      ],
      "text/plain": [
       "   user_id   item_id  score\n",
       "0        0    597196    582\n",
       "1        0     18860    133\n",
       "2        0  21101463   1291\n",
       "3        0  29213451    157\n",
       "4        0  27077792    432"
      ]
     },
     "execution_count": 11,
     "metadata": {},
     "output_type": "execute_result"
    }
   ],
   "source": [
    "popular_recommendations = pd.merge(\n",
    "    als_recommendations[['user_id', 'item_id']],\n",
    "    top_popular,\n",
    "    on='item_id',\n",
    "    how=\"left\"\n",
    ")\n",
    "popular_recommendations.head(5)"
   ]
  },
  {
   "cell_type": "code",
   "execution_count": 12,
   "id": "dd47b563-98d9-4efd-a552-8c2027cdbc47",
   "metadata": {},
   "outputs": [],
   "source": [
    "del top_popular"
   ]
  },
  {
   "cell_type": "code",
   "execution_count": 13,
   "id": "a957dd69-a46c-4abf-b65f-bfb48ca03b0d",
   "metadata": {},
   "outputs": [
    {
     "data": {
      "text/html": [
       "<div>\n",
       "<style scoped>\n",
       "    .dataframe tbody tr th:only-of-type {\n",
       "        vertical-align: middle;\n",
       "    }\n",
       "\n",
       "    .dataframe tbody tr th {\n",
       "        vertical-align: top;\n",
       "    }\n",
       "\n",
       "    .dataframe thead th {\n",
       "        text-align: right;\n",
       "    }\n",
       "</style>\n",
       "<table border=\"1\" class=\"dataframe\">\n",
       "  <thead>\n",
       "    <tr style=\"text-align: right;\">\n",
       "      <th></th>\n",
       "      <th>count</th>\n",
       "      <th>genres</th>\n",
       "    </tr>\n",
       "    <tr>\n",
       "      <th>item_id</th>\n",
       "      <th></th>\n",
       "      <th></th>\n",
       "    </tr>\n",
       "  </thead>\n",
       "  <tbody>\n",
       "    <tr>\n",
       "      <th>26</th>\n",
       "      <td>5</td>\n",
       "      <td>11</td>\n",
       "    </tr>\n",
       "    <tr>\n",
       "      <th>26</th>\n",
       "      <td>5</td>\n",
       "      <td>21</td>\n",
       "    </tr>\n",
       "    <tr>\n",
       "      <th>38</th>\n",
       "      <td>8</td>\n",
       "      <td>11</td>\n",
       "    </tr>\n",
       "    <tr>\n",
       "      <th>38</th>\n",
       "      <td>8</td>\n",
       "      <td>21</td>\n",
       "    </tr>\n",
       "    <tr>\n",
       "      <th>135</th>\n",
       "      <td>16</td>\n",
       "      <td>11</td>\n",
       "    </tr>\n",
       "  </tbody>\n",
       "</table>\n",
       "</div>"
      ],
      "text/plain": [
       "         count genres\n",
       "item_id              \n",
       "26           5     11\n",
       "26           5     21\n",
       "38           8     11\n",
       "38           8     21\n",
       "135         16     11"
      ]
     },
     "execution_count": 13,
     "metadata": {},
     "output_type": "execute_result"
    }
   ],
   "source": [
    "# В качестве третьего признака возьмем топ по жанрам\n",
    "events_with_genres = events_train.groupby('item_id').size().reset_index(name='count').set_index('item_id').merge(\n",
    "    items[['genres']],\n",
    "    how='left',\n",
    "    left_index=True,\n",
    "    right_index=True\n",
    ").explode('genres')\n",
    "events_with_genres.head(5)"
   ]
  },
  {
   "cell_type": "code",
   "execution_count": 14,
   "id": "8260fc72-f0ba-472a-b2f0-4e5c4e86688d",
   "metadata": {},
   "outputs": [],
   "source": [
    "genre_popularity = events_with_genres.groupby('genres')['count'].sum()"
   ]
  },
  {
   "cell_type": "code",
   "execution_count": 15,
   "id": "1f90847d-e436-475c-9c97-e6675eb02688",
   "metadata": {},
   "outputs": [],
   "source": [
    "genre_recomendations = pd.merge(\n",
    "    als_recommendations[['item_id', 'user_id']],\n",
    "    items[['genres']],\n",
    "    left_on='item_id',\n",
    "    right_index=True,\n",
    "    how='left'\n",
    ").explode('genres')"
   ]
  },
  {
   "cell_type": "code",
   "execution_count": 16,
   "id": "107754d2-ca22-4b2b-81b8-ebd0ef9e4aa6",
   "metadata": {},
   "outputs": [],
   "source": [
    "# для каждого трека оставим самый популярный жанр (если их несколько),\n",
    "genre_recomendations = genre_recomendations.merge(genre_popularity, left_on=\"genres\", right_index=True)\n",
    "genre_recomendations_sorted = genre_recomendations.sort_values(by=['item_id', 'user_id', 'count'], ascending=[True, True, False])\n",
    "genre_recomendations = genre_recomendations_sorted.drop_duplicates(subset=['item_id', 'user_id'], keep='first').reset_index(drop=True)\n",
    "genre_recomendations = genre_recomendations[['user_id', 'item_id', 'count']].sort_values(by='user_id').rename(columns={'count': 'score'})"
   ]
  },
  {
   "cell_type": "code",
   "execution_count": 17,
   "id": "af6fcf9c-bf3b-46d4-8f7f-b0e24da44bae",
   "metadata": {},
   "outputs": [
    {
     "data": {
      "text/html": [
       "<div>\n",
       "<style scoped>\n",
       "    .dataframe tbody tr th:only-of-type {\n",
       "        vertical-align: middle;\n",
       "    }\n",
       "\n",
       "    .dataframe tbody tr th {\n",
       "        vertical-align: top;\n",
       "    }\n",
       "\n",
       "    .dataframe thead th {\n",
       "        text-align: right;\n",
       "    }\n",
       "</style>\n",
       "<table border=\"1\" class=\"dataframe\">\n",
       "  <thead>\n",
       "    <tr style=\"text-align: right;\">\n",
       "      <th></th>\n",
       "      <th>user_id</th>\n",
       "      <th>item_id</th>\n",
       "      <th>score</th>\n",
       "    </tr>\n",
       "  </thead>\n",
       "  <tbody>\n",
       "    <tr>\n",
       "      <th>4117151</th>\n",
       "      <td>0</td>\n",
       "      <td>6006252</td>\n",
       "      <td>51490799</td>\n",
       "    </tr>\n",
       "    <tr>\n",
       "      <th>7461817</th>\n",
       "      <td>0</td>\n",
       "      <td>33308946</td>\n",
       "      <td>29665807</td>\n",
       "    </tr>\n",
       "    <tr>\n",
       "      <th>6613784</th>\n",
       "      <td>0</td>\n",
       "      <td>29213451</td>\n",
       "      <td>35121554</td>\n",
       "    </tr>\n",
       "    <tr>\n",
       "      <th>6420381</th>\n",
       "      <td>0</td>\n",
       "      <td>27898772</td>\n",
       "      <td>35121554</td>\n",
       "    </tr>\n",
       "    <tr>\n",
       "      <th>6352592</th>\n",
       "      <td>0</td>\n",
       "      <td>27077792</td>\n",
       "      <td>35121554</td>\n",
       "    </tr>\n",
       "  </tbody>\n",
       "</table>\n",
       "</div>"
      ],
      "text/plain": [
       "         user_id   item_id     score\n",
       "4117151        0   6006252  51490799\n",
       "7461817        0  33308946  29665807\n",
       "6613784        0  29213451  35121554\n",
       "6420381        0  27898772  35121554\n",
       "6352592        0  27077792  35121554"
      ]
     },
     "execution_count": 17,
     "metadata": {},
     "output_type": "execute_result"
    }
   ],
   "source": [
    "genre_recomendations.head(5)"
   ]
  },
  {
   "cell_type": "code",
   "execution_count": 18,
   "id": "47232751-b6a8-4d9c-8619-b060920759a1",
   "metadata": {},
   "outputs": [],
   "source": [
    "# Сформируем список кандидатов для ранжирующей модели\n",
    "candidates = pd.merge(\n",
    "    als_recommendations.rename(columns={\"score\": \"als_score\"}),\n",
    "    popular_recommendations.rename(columns={\"score\": \"pop_score\"}),\n",
    "    on=['user_id', 'item_id'],\n",
    "    how=\"outer\"\n",
    ")\n",
    "candidates = pd.merge(\n",
    "    candidates,\n",
    "    genre_recomendations.rename(columns={\"score\": \"genre_score\"}),\n",
    "    on=['user_id', 'item_id'],\n",
    "    how=\"outer\"\n",
    ")[['user_id', 'item_id', 'als_score', 'pop_score', 'genre_score']]"
   ]
  },
  {
   "cell_type": "code",
   "execution_count": 19,
   "id": "6fc96bfd-fa51-4352-bb98-a9efb3b46736",
   "metadata": {},
   "outputs": [
    {
     "data": {
      "text/html": [
       "<div>\n",
       "<style scoped>\n",
       "    .dataframe tbody tr th:only-of-type {\n",
       "        vertical-align: middle;\n",
       "    }\n",
       "\n",
       "    .dataframe tbody tr th {\n",
       "        vertical-align: top;\n",
       "    }\n",
       "\n",
       "    .dataframe thead th {\n",
       "        text-align: right;\n",
       "    }\n",
       "</style>\n",
       "<table border=\"1\" class=\"dataframe\">\n",
       "  <thead>\n",
       "    <tr style=\"text-align: right;\">\n",
       "      <th></th>\n",
       "      <th>user_id</th>\n",
       "      <th>item_id</th>\n",
       "      <th>als_score</th>\n",
       "      <th>pop_score</th>\n",
       "      <th>genre_score</th>\n",
       "    </tr>\n",
       "  </thead>\n",
       "  <tbody>\n",
       "    <tr>\n",
       "      <th>0</th>\n",
       "      <td>0</td>\n",
       "      <td>597196</td>\n",
       "      <td>0.023411</td>\n",
       "      <td>582</td>\n",
       "      <td>35121554</td>\n",
       "    </tr>\n",
       "    <tr>\n",
       "      <th>1</th>\n",
       "      <td>0</td>\n",
       "      <td>18860</td>\n",
       "      <td>0.017238</td>\n",
       "      <td>133</td>\n",
       "      <td>35121554</td>\n",
       "    </tr>\n",
       "    <tr>\n",
       "      <th>2</th>\n",
       "      <td>0</td>\n",
       "      <td>21101463</td>\n",
       "      <td>0.017012</td>\n",
       "      <td>1291</td>\n",
       "      <td>35121554</td>\n",
       "    </tr>\n",
       "    <tr>\n",
       "      <th>3</th>\n",
       "      <td>0</td>\n",
       "      <td>29213451</td>\n",
       "      <td>0.016820</td>\n",
       "      <td>157</td>\n",
       "      <td>35121554</td>\n",
       "    </tr>\n",
       "    <tr>\n",
       "      <th>4</th>\n",
       "      <td>0</td>\n",
       "      <td>27077792</td>\n",
       "      <td>0.015884</td>\n",
       "      <td>432</td>\n",
       "      <td>35121554</td>\n",
       "    </tr>\n",
       "  </tbody>\n",
       "</table>\n",
       "</div>"
      ],
      "text/plain": [
       "   user_id   item_id  als_score  pop_score  genre_score\n",
       "0        0    597196   0.023411        582     35121554\n",
       "1        0     18860   0.017238        133     35121554\n",
       "2        0  21101463   0.017012       1291     35121554\n",
       "3        0  29213451   0.016820        157     35121554\n",
       "4        0  27077792   0.015884        432     35121554"
      ]
     },
     "execution_count": 19,
     "metadata": {},
     "output_type": "execute_result"
    }
   ],
   "source": [
    "candidates.head(5)"
   ]
  },
  {
   "cell_type": "code",
   "execution_count": 9,
   "id": "87daf898-822e-4201-9ff9-b60ecb8fb1d7",
   "metadata": {},
   "outputs": [],
   "source": [
    "candidates.to_parquet('candidates.parquet')"
   ]
  },
  {
   "cell_type": "code",
   "execution_count": 37,
   "id": "1ae29e6b-7fb2-4b4d-82cf-7a4551178e8e",
   "metadata": {},
   "outputs": [],
   "source": [
    "del als_recommendations\n",
    "del events_with_genres\n",
    "del genre_recomendations\n",
    "del genre_recomendations_sorted\n",
    "del popular_recommendations"
   ]
  },
  {
   "cell_type": "code",
   "execution_count": 19,
   "id": "8c4a56b2-a696-44b5-b119-a40a8c28da71",
   "metadata": {},
   "outputs": [],
   "source": [
    "# зададим точку разбиения \n",
    "split_index = int(events_test.shape[0] * 0.5)\n",
    "split_timestamp = events_test.iloc[split_index]['started_at']\n",
    "\n",
    "train_idx = events_test[\"started_at\"] < split_timestamp\n",
    "\n",
    "events_labels = events_test[train_idx]\n",
    "events_test_2 = events_test[~train_idx]"
   ]
  },
  {
   "cell_type": "code",
   "execution_count": null,
   "id": "88437a0c-1715-46c2-9d75-3baadc485625",
   "metadata": {},
   "outputs": [],
   "source": [
    "events_labels[\"target\"] = 1\n",
    "candidates = candidates.merge(\n",
    "    events_labels[[\"user_id\", \"item_id\", \"target\"]], \n",
    "    on=[\"user_id\", \"item_id\"],\n",
    "    how='left'\n",
    ")\n",
    "candidates[\"target\"] = candidates[\"target\"].fillna(0).astype(\"int\")"
   ]
  },
  {
   "cell_type": "code",
   "execution_count": 12,
   "id": "40c053ee-0315-4681-bde3-4be4a1ca0fa9",
   "metadata": {},
   "outputs": [
    {
     "data": {
      "text/html": [
       "<div>\n",
       "<style scoped>\n",
       "    .dataframe tbody tr th:only-of-type {\n",
       "        vertical-align: middle;\n",
       "    }\n",
       "\n",
       "    .dataframe tbody tr th {\n",
       "        vertical-align: top;\n",
       "    }\n",
       "\n",
       "    .dataframe thead th {\n",
       "        text-align: right;\n",
       "    }\n",
       "</style>\n",
       "<table border=\"1\" class=\"dataframe\">\n",
       "  <thead>\n",
       "    <tr style=\"text-align: right;\">\n",
       "      <th></th>\n",
       "      <th>user_id</th>\n",
       "      <th>item_id</th>\n",
       "      <th>als_score</th>\n",
       "      <th>pop_score</th>\n",
       "      <th>genre_score</th>\n",
       "      <th>target</th>\n",
       "    </tr>\n",
       "  </thead>\n",
       "  <tbody>\n",
       "    <tr>\n",
       "      <th>0</th>\n",
       "      <td>0</td>\n",
       "      <td>597196</td>\n",
       "      <td>0.023411</td>\n",
       "      <td>582</td>\n",
       "      <td>35121554</td>\n",
       "      <td>0</td>\n",
       "    </tr>\n",
       "    <tr>\n",
       "      <th>1</th>\n",
       "      <td>0</td>\n",
       "      <td>18860</td>\n",
       "      <td>0.017238</td>\n",
       "      <td>133</td>\n",
       "      <td>35121554</td>\n",
       "      <td>0</td>\n",
       "    </tr>\n",
       "    <tr>\n",
       "      <th>2</th>\n",
       "      <td>0</td>\n",
       "      <td>21101463</td>\n",
       "      <td>0.017012</td>\n",
       "      <td>1291</td>\n",
       "      <td>35121554</td>\n",
       "      <td>0</td>\n",
       "    </tr>\n",
       "    <tr>\n",
       "      <th>3</th>\n",
       "      <td>0</td>\n",
       "      <td>29213451</td>\n",
       "      <td>0.016820</td>\n",
       "      <td>157</td>\n",
       "      <td>35121554</td>\n",
       "      <td>0</td>\n",
       "    </tr>\n",
       "    <tr>\n",
       "      <th>4</th>\n",
       "      <td>0</td>\n",
       "      <td>27077792</td>\n",
       "      <td>0.015884</td>\n",
       "      <td>432</td>\n",
       "      <td>35121554</td>\n",
       "      <td>0</td>\n",
       "    </tr>\n",
       "  </tbody>\n",
       "</table>\n",
       "</div>"
      ],
      "text/plain": [
       "   user_id   item_id  als_score  pop_score  genre_score  target\n",
       "0        0    597196   0.023411        582     35121554       0\n",
       "1        0     18860   0.017238        133     35121554       0\n",
       "2        0  21101463   0.017012       1291     35121554       0\n",
       "3        0  29213451   0.016820        157     35121554       0\n",
       "4        0  27077792   0.015884        432     35121554       0"
      ]
     },
     "execution_count": 12,
     "metadata": {},
     "output_type": "execute_result"
    }
   ],
   "source": [
    "candidates.head(5)"
   ]
  },
  {
   "cell_type": "code",
   "execution_count": 13,
   "id": "9312db31-d8e1-434c-a306-434a1ca812a4",
   "metadata": {},
   "outputs": [],
   "source": [
    "# Оставляем в кандидатах, только тех пользоватей, у которых есть хотя бы один положительный таргет\n",
    "candidates = candidates.groupby(\"user_id\").filter(lambda x: x[\"target\"].sum() > 0)"
   ]
  },
  {
   "cell_type": "code",
   "execution_count": 14,
   "id": "83d1ff2e-77a6-48d7-918b-5803e5b88040",
   "metadata": {},
   "outputs": [
    {
     "data": {
      "text/plain": [
       "target\n",
       "0    226027\n",
       "1     29042\n",
       "Name: count, dtype: int64"
      ]
     },
     "execution_count": 14,
     "metadata": {},
     "output_type": "execute_result"
    }
   ],
   "source": [
    "# Проверим баланс классов\n",
    "candidates['target'].value_counts()"
   ]
  },
  {
   "cell_type": "code",
   "execution_count": 15,
   "id": "fbd7f459-0437-4be8-8596-66c35c57d968",
   "metadata": {},
   "outputs": [],
   "source": [
    "# Так как негативных примеров сильно больше, будет хорошо сбалансировать классы\n",
    "negatives_per_user = (\n",
    "    round(candidates.target.value_counts()[1] / candidates.user_id.nunique())\n",
    ")"
   ]
  },
  {
   "cell_type": "code",
   "execution_count": 16,
   "id": "6f26a818-9139-4560-ae64-6b9f89104783",
   "metadata": {},
   "outputs": [],
   "source": [
    "candidates_for_train = pd.concat([\n",
    "    candidates.query(\"target == 1\"),\n",
    "    candidates.query(\"target == 0\")\n",
    "        .groupby(\"user_id\") \\\n",
    "        .apply(lambda x: x.sample(min(negatives_per_user, len(x)), random_state=42))\n",
    "    ])"
   ]
  },
  {
   "cell_type": "code",
   "execution_count": 17,
   "id": "4179239e-09d4-49b1-8a89-c0cb0697c6a7",
   "metadata": {},
   "outputs": [
    {
     "data": {
      "text/plain": [
       "target\n",
       "1    29042\n",
       "0    24901\n",
       "Name: count, dtype: int64"
      ]
     },
     "execution_count": 17,
     "metadata": {},
     "output_type": "execute_result"
    }
   ],
   "source": [
    "candidates_for_train['target'].value_counts()"
   ]
  },
  {
   "cell_type": "code",
   "execution_count": 18,
   "id": "204abde1-6398-4102-974f-b43cdeaf14c5",
   "metadata": {},
   "outputs": [
    {
     "data": {
      "text/html": [
       "<div>\n",
       "<style scoped>\n",
       "    .dataframe tbody tr th:only-of-type {\n",
       "        vertical-align: middle;\n",
       "    }\n",
       "\n",
       "    .dataframe tbody tr th {\n",
       "        vertical-align: top;\n",
       "    }\n",
       "\n",
       "    .dataframe thead th {\n",
       "        text-align: right;\n",
       "    }\n",
       "</style>\n",
       "<table border=\"1\" class=\"dataframe\">\n",
       "  <thead>\n",
       "    <tr style=\"text-align: right;\">\n",
       "      <th></th>\n",
       "      <th>user_id</th>\n",
       "      <th>item_id</th>\n",
       "      <th>als_score</th>\n",
       "      <th>pop_score</th>\n",
       "      <th>genre_score</th>\n",
       "      <th>target</th>\n",
       "    </tr>\n",
       "  </thead>\n",
       "  <tbody>\n",
       "    <tr>\n",
       "      <th>836</th>\n",
       "      <td>79</td>\n",
       "      <td>17198795</td>\n",
       "      <td>0.066087</td>\n",
       "      <td>341</td>\n",
       "      <td>51490799</td>\n",
       "      <td>1</td>\n",
       "    </tr>\n",
       "    <tr>\n",
       "      <th>1449</th>\n",
       "      <td>138</td>\n",
       "      <td>83063895</td>\n",
       "      <td>0.253121</td>\n",
       "      <td>68</td>\n",
       "      <td>51490799</td>\n",
       "      <td>1</td>\n",
       "    </tr>\n",
       "    <tr>\n",
       "      <th>1687</th>\n",
       "      <td>162</td>\n",
       "      <td>2758009</td>\n",
       "      <td>0.266799</td>\n",
       "      <td>14</td>\n",
       "      <td>29665807</td>\n",
       "      <td>1</td>\n",
       "    </tr>\n",
       "    <tr>\n",
       "      <th>1691</th>\n",
       "      <td>162</td>\n",
       "      <td>10776533</td>\n",
       "      <td>0.212631</td>\n",
       "      <td>169</td>\n",
       "      <td>29665807</td>\n",
       "      <td>1</td>\n",
       "    </tr>\n",
       "    <tr>\n",
       "      <th>1718</th>\n",
       "      <td>164</td>\n",
       "      <td>10776533</td>\n",
       "      <td>0.279243</td>\n",
       "      <td>169</td>\n",
       "      <td>29665807</td>\n",
       "      <td>1</td>\n",
       "    </tr>\n",
       "  </tbody>\n",
       "</table>\n",
       "</div>"
      ],
      "text/plain": [
       "      user_id   item_id  als_score  pop_score  genre_score  target\n",
       "836        79  17198795   0.066087        341     51490799       1\n",
       "1449      138  83063895   0.253121         68     51490799       1\n",
       "1687      162   2758009   0.266799         14     29665807       1\n",
       "1691      162  10776533   0.212631        169     29665807       1\n",
       "1718      164  10776533   0.279243        169     29665807       1"
      ]
     },
     "execution_count": 18,
     "metadata": {},
     "output_type": "execute_result"
    }
   ],
   "source": [
    "candidates_for_train.head(5)"
   ]
  },
  {
   "cell_type": "markdown",
   "id": "47bcf88d-b236-46f0-a6f3-38ddd64895fe",
   "metadata": {},
   "source": [
    "# Ранжирование рекомендаций"
   ]
  },
  {
   "cell_type": "markdown",
   "id": "e8cd8223-3418-4493-8c87-1f76286ebda0",
   "metadata": {},
   "source": [
    "Построим ранжирующую модель, чтобы сделать рекомендации более точными. Отранжируем рекомендации."
   ]
  },
  {
   "cell_type": "code",
   "execution_count": 19,
   "id": "79f1dd92-32a9-463d-827e-8bb9ee5bbb54",
   "metadata": {},
   "outputs": [],
   "source": [
    "train_data = Pool(\n",
    "    data=candidates_for_train[['als_score', 'pop_score', 'genre_score']], \n",
    "    label=candidates_for_train['target']\n",
    ")"
   ]
  },
  {
   "cell_type": "code",
   "execution_count": 20,
   "id": "6dbe4db4-1ac5-44da-a13c-8e7f9768ab73",
   "metadata": {},
   "outputs": [
    {
     "name": "stdout",
     "output_type": "stream",
     "text": [
      "0:\tlearn: 0.6907881\ttotal: 59.7ms\tremaining: 9m 56s\n",
      "1000:\tlearn: 0.5572676\ttotal: 6.29s\tremaining: 56.5s\n",
      "2000:\tlearn: 0.5282602\ttotal: 12.7s\tremaining: 50.6s\n",
      "3000:\tlearn: 0.5079263\ttotal: 18.9s\tremaining: 44s\n",
      "4000:\tlearn: 0.4919848\ttotal: 25.1s\tremaining: 37.6s\n",
      "5000:\tlearn: 0.4777314\ttotal: 31.3s\tremaining: 31.3s\n",
      "6000:\tlearn: 0.4659761\ttotal: 37.5s\tremaining: 25s\n",
      "7000:\tlearn: 0.4553988\ttotal: 43.7s\tremaining: 18.7s\n",
      "8000:\tlearn: 0.4456309\ttotal: 49.9s\tremaining: 12.5s\n",
      "9000:\tlearn: 0.4370236\ttotal: 56.1s\tremaining: 6.22s\n",
      "9999:\tlearn: 0.4283689\ttotal: 1m 2s\tremaining: 0us\n"
     ]
    },
    {
     "data": {
      "text/plain": [
       "<catboost.core.CatBoostClassifier at 0x7f92c84dfd60>"
      ]
     },
     "execution_count": 20,
     "metadata": {},
     "output_type": "execute_result"
    }
   ],
   "source": [
    "cb_model = CatBoostClassifier(\n",
    "    learning_rate=0.1,\n",
    "    loss_function='Logloss',\n",
    "    iterations=10000,\n",
    "    verbose=1000,\n",
    "    random_seed=42\n",
    ")\n",
    "\n",
    "cb_model.fit(train_data)"
   ]
  },
  {
   "cell_type": "markdown",
   "id": "a0affb82-43fd-4605-b96f-71fd4063afa4",
   "metadata": {},
   "source": [
    "Подготовим данные для ранжирующей модели на валидационной выборке"
   ]
  },
  {
   "cell_type": "code",
   "execution_count": 71,
   "id": "2d6786c2-0737-4381-87cc-6fe934c4aa15",
   "metadata": {},
   "outputs": [],
   "source": [
    "user_item_matrix_validation = scipy.sparse.csr_matrix((\n",
    "    np.ones(len(events_test_2)),\n",
    "    (events_test_2['user_id_enc'], events_test_2['item_id_enc'])),\n",
    "    dtype=np.int8)"
   ]
  },
  {
   "cell_type": "code",
   "execution_count": 72,
   "id": "5b274596-5387-4d7b-9134-9017b1c8f73c",
   "metadata": {},
   "outputs": [],
   "source": [
    "als_recommendations_validation = als_model.recommend(\n",
    "    user_ids_encoded,\n",
    "    user_item_matrix_validation[user_ids_encoded],\n",
    "    filter_already_liked_items=False, N=10)"
   ]
  },
  {
   "cell_type": "code",
   "execution_count": 78,
   "id": "b73f7348-906f-4185-9315-166e6312bc46",
   "metadata": {},
   "outputs": [],
   "source": [
    "als_recommendations_validation = pd.DataFrame({\n",
    "    \"user_id_enc\": user_ids_encoded,\n",
    "    \"item_id_enc\": als_recommendations_validation[0].tolist(), \n",
    "    \"score\": als_recommendations_validation[1].tolist()})"
   ]
  },
  {
   "cell_type": "code",
   "execution_count": 79,
   "id": "458b9f85-6fb9-446e-9ae5-a9d1ab052e6a",
   "metadata": {},
   "outputs": [
    {
     "data": {
      "text/html": [
       "<div>\n",
       "<style scoped>\n",
       "    .dataframe tbody tr th:only-of-type {\n",
       "        vertical-align: middle;\n",
       "    }\n",
       "\n",
       "    .dataframe tbody tr th {\n",
       "        vertical-align: top;\n",
       "    }\n",
       "\n",
       "    .dataframe thead th {\n",
       "        text-align: right;\n",
       "    }\n",
       "</style>\n",
       "<table border=\"1\" class=\"dataframe\">\n",
       "  <thead>\n",
       "    <tr style=\"text-align: right;\">\n",
       "      <th></th>\n",
       "      <th>score</th>\n",
       "      <th>user_id</th>\n",
       "      <th>item_id</th>\n",
       "    </tr>\n",
       "  </thead>\n",
       "  <tbody>\n",
       "    <tr>\n",
       "      <th>0</th>\n",
       "      <td>0.023411</td>\n",
       "      <td>0</td>\n",
       "      <td>597196</td>\n",
       "    </tr>\n",
       "    <tr>\n",
       "      <th>1</th>\n",
       "      <td>0.017238</td>\n",
       "      <td>0</td>\n",
       "      <td>18860</td>\n",
       "    </tr>\n",
       "    <tr>\n",
       "      <th>2</th>\n",
       "      <td>0.017012</td>\n",
       "      <td>0</td>\n",
       "      <td>21101463</td>\n",
       "    </tr>\n",
       "  </tbody>\n",
       "</table>\n",
       "</div>"
      ],
      "text/plain": [
       "      score  user_id   item_id\n",
       "0  0.023411        0    597196\n",
       "1  0.017238        0     18860\n",
       "2  0.017012        0  21101463"
      ]
     },
     "execution_count": 79,
     "metadata": {},
     "output_type": "execute_result"
    }
   ],
   "source": [
    "als_recommendations_validation = als_recommendations_validation.explode([\"item_id_enc\", \"score\"], ignore_index=True)\n",
    "als_recommendations_validation[\"item_id_enc\"] = als_recommendations_validation[\"item_id_enc\"].astype(\"int\")\n",
    "als_recommendations_validation[\"score\"] = als_recommendations_validation[\"score\"].astype(\"float\")\n",
    "als_recommendations_validation[\"user_id\"] = user_encoder.inverse_transform(als_recommendations_validation[\"user_id_enc\"])\n",
    "als_recommendations_validation[\"item_id\"] = item_encoder.inverse_transform(als_recommendations_validation[\"item_id_enc\"])\n",
    "als_recommendations_validation = als_recommendations_validation.drop(columns=[\"user_id_enc\", \"item_id_enc\"])\n",
    "als_recommendations_validation.head(3)"
   ]
  },
  {
   "cell_type": "code",
   "execution_count": 89,
   "id": "a5e6caf1-7030-419c-aef0-226e62428a21",
   "metadata": {},
   "outputs": [
    {
     "data": {
      "text/html": [
       "<div>\n",
       "<style scoped>\n",
       "    .dataframe tbody tr th:only-of-type {\n",
       "        vertical-align: middle;\n",
       "    }\n",
       "\n",
       "    .dataframe tbody tr th {\n",
       "        vertical-align: top;\n",
       "    }\n",
       "\n",
       "    .dataframe thead th {\n",
       "        text-align: right;\n",
       "    }\n",
       "</style>\n",
       "<table border=\"1\" class=\"dataframe\">\n",
       "  <thead>\n",
       "    <tr style=\"text-align: right;\">\n",
       "      <th></th>\n",
       "      <th>user_id</th>\n",
       "      <th>item_id</th>\n",
       "      <th>rank</th>\n",
       "    </tr>\n",
       "  </thead>\n",
       "  <tbody>\n",
       "    <tr>\n",
       "      <th>0</th>\n",
       "      <td>0</td>\n",
       "      <td>597196</td>\n",
       "      <td>21095.0</td>\n",
       "    </tr>\n",
       "    <tr>\n",
       "      <th>1</th>\n",
       "      <td>0</td>\n",
       "      <td>18860</td>\n",
       "      <td>10904.0</td>\n",
       "    </tr>\n",
       "    <tr>\n",
       "      <th>2</th>\n",
       "      <td>0</td>\n",
       "      <td>21101463</td>\n",
       "      <td>8927.0</td>\n",
       "    </tr>\n",
       "    <tr>\n",
       "      <th>3</th>\n",
       "      <td>0</td>\n",
       "      <td>29213451</td>\n",
       "      <td>810.0</td>\n",
       "    </tr>\n",
       "    <tr>\n",
       "      <th>4</th>\n",
       "      <td>0</td>\n",
       "      <td>27077792</td>\n",
       "      <td>1039.0</td>\n",
       "    </tr>\n",
       "  </tbody>\n",
       "</table>\n",
       "</div>"
      ],
      "text/plain": [
       "   user_id   item_id     rank\n",
       "0        0    597196  21095.0\n",
       "1        0     18860  10904.0\n",
       "2        0  21101463   8927.0\n",
       "3        0  29213451    810.0\n",
       "4        0  27077792   1039.0"
      ]
     },
     "execution_count": 89,
     "metadata": {},
     "output_type": "execute_result"
    }
   ],
   "source": [
    "top_popular = events_test_2 \\\n",
    "    .groupby([\"item_id\"]).agg(total_plays=(\"user_id\", \"size\")).reset_index()\n",
    "top_popular = top_popular.sort_values(by=['total_plays'], ascending=False) \\\n",
    "    .reset_index(drop=True)\n",
    "top_popular['rank'] = top_popular.index + 1\n",
    "top_popular = top_popular[['item_id', 'rank']]\n",
    "top_popular.head(5)\n",
    "\n",
    "popular_recommendations_validation = pd.merge(\n",
    "    als_recommendations_validation[['user_id', 'item_id']],\n",
    "    top_popular,\n",
    "    on='item_id',\n",
    "    how=\"left\"\n",
    ")\n",
    "popular_recommendations_validation.head(5)"
   ]
  },
  {
   "cell_type": "code",
   "execution_count": 82,
   "id": "7851bd2a-6943-4798-8e0d-9d5c122e8a29",
   "metadata": {},
   "outputs": [],
   "source": [
    "genre_recomendations_validation = pd.merge(\n",
    "    events_test_2[['item_id', 'user_id']],\n",
    "    items[['genres']],\n",
    "    left_on='item_id',\n",
    "    right_index=True,\n",
    "    how='left'\n",
    ").explode('genres')"
   ]
  },
  {
   "cell_type": "code",
   "execution_count": 83,
   "id": "37c3eb9a-0a87-4400-a607-0463be25ed72",
   "metadata": {},
   "outputs": [],
   "source": [
    "genre_recomendations_validation = genre_recomendations_validation.merge(genre_popularity, left_on=\"genres\", right_index=True)\n",
    "genre_recomendations_validation_sorted = genre_recomendations_validation.sort_values(by=['item_id', 'user_id', 'count'], ascending=[True, True, False])\n",
    "genre_recomendations_validation = genre_recomendations_validation.drop_duplicates(subset=['item_id', 'user_id'], keep='first').reset_index(drop=True)\n",
    "genre_recomendations_validation = genre_recomendations_validation[['user_id', 'item_id', 'count']].sort_values(by='user_id').rename(columns={'count': 'score'})"
   ]
  },
  {
   "cell_type": "code",
   "execution_count": 84,
   "id": "2559b9ff-cd5b-48a4-a9df-f4da49673421",
   "metadata": {},
   "outputs": [
    {
     "data": {
      "text/html": [
       "<div>\n",
       "<style scoped>\n",
       "    .dataframe tbody tr th:only-of-type {\n",
       "        vertical-align: middle;\n",
       "    }\n",
       "\n",
       "    .dataframe tbody tr th {\n",
       "        vertical-align: top;\n",
       "    }\n",
       "\n",
       "    .dataframe thead th {\n",
       "        text-align: right;\n",
       "    }\n",
       "</style>\n",
       "<table border=\"1\" class=\"dataframe\">\n",
       "  <thead>\n",
       "    <tr style=\"text-align: right;\">\n",
       "      <th></th>\n",
       "      <th>user_id</th>\n",
       "      <th>item_id</th>\n",
       "      <th>score</th>\n",
       "    </tr>\n",
       "  </thead>\n",
       "  <tbody>\n",
       "    <tr>\n",
       "      <th>0</th>\n",
       "      <td>3</td>\n",
       "      <td>78194999</td>\n",
       "      <td>23365386</td>\n",
       "    </tr>\n",
       "    <tr>\n",
       "      <th>5136014</th>\n",
       "      <td>4</td>\n",
       "      <td>92133060</td>\n",
       "      <td>2281700</td>\n",
       "    </tr>\n",
       "    <tr>\n",
       "      <th>1857167</th>\n",
       "      <td>4</td>\n",
       "      <td>83858540</td>\n",
       "      <td>18951467</td>\n",
       "    </tr>\n",
       "    <tr>\n",
       "      <th>3611171</th>\n",
       "      <td>4</td>\n",
       "      <td>86153070</td>\n",
       "      <td>9648178</td>\n",
       "    </tr>\n",
       "    <tr>\n",
       "      <th>5136015</th>\n",
       "      <td>4</td>\n",
       "      <td>94227416</td>\n",
       "      <td>2281700</td>\n",
       "    </tr>\n",
       "  </tbody>\n",
       "</table>\n",
       "</div>"
      ],
      "text/plain": [
       "         user_id   item_id     score\n",
       "0              3  78194999  23365386\n",
       "5136014        4  92133060   2281700\n",
       "1857167        4  83858540  18951467\n",
       "3611171        4  86153070   9648178\n",
       "5136015        4  94227416   2281700"
      ]
     },
     "execution_count": 84,
     "metadata": {},
     "output_type": "execute_result"
    }
   ],
   "source": [
    "genre_recomendations_validation.head(5)"
   ]
  },
  {
   "cell_type": "code",
   "execution_count": 92,
   "id": "7df1c53a-4526-4949-965e-f4f0bf9a3cd2",
   "metadata": {},
   "outputs": [
    {
     "data": {
      "text/html": [
       "<div>\n",
       "<style scoped>\n",
       "    .dataframe tbody tr th:only-of-type {\n",
       "        vertical-align: middle;\n",
       "    }\n",
       "\n",
       "    .dataframe tbody tr th {\n",
       "        vertical-align: top;\n",
       "    }\n",
       "\n",
       "    .dataframe thead th {\n",
       "        text-align: right;\n",
       "    }\n",
       "</style>\n",
       "<table border=\"1\" class=\"dataframe\">\n",
       "  <thead>\n",
       "    <tr style=\"text-align: right;\">\n",
       "      <th></th>\n",
       "      <th>user_id</th>\n",
       "      <th>item_id</th>\n",
       "      <th>als_score</th>\n",
       "      <th>pop_score</th>\n",
       "      <th>genre_score</th>\n",
       "    </tr>\n",
       "  </thead>\n",
       "  <tbody>\n",
       "    <tr>\n",
       "      <th>0</th>\n",
       "      <td>0</td>\n",
       "      <td>597196</td>\n",
       "      <td>0.023411</td>\n",
       "      <td>21095.0</td>\n",
       "      <td>NaN</td>\n",
       "    </tr>\n",
       "    <tr>\n",
       "      <th>1</th>\n",
       "      <td>0</td>\n",
       "      <td>18860</td>\n",
       "      <td>0.017238</td>\n",
       "      <td>10904.0</td>\n",
       "      <td>NaN</td>\n",
       "    </tr>\n",
       "    <tr>\n",
       "      <th>2</th>\n",
       "      <td>0</td>\n",
       "      <td>21101463</td>\n",
       "      <td>0.017012</td>\n",
       "      <td>8927.0</td>\n",
       "      <td>NaN</td>\n",
       "    </tr>\n",
       "    <tr>\n",
       "      <th>3</th>\n",
       "      <td>0</td>\n",
       "      <td>29213451</td>\n",
       "      <td>0.016820</td>\n",
       "      <td>810.0</td>\n",
       "      <td>NaN</td>\n",
       "    </tr>\n",
       "    <tr>\n",
       "      <th>4</th>\n",
       "      <td>0</td>\n",
       "      <td>27077792</td>\n",
       "      <td>0.015884</td>\n",
       "      <td>1039.0</td>\n",
       "      <td>NaN</td>\n",
       "    </tr>\n",
       "  </tbody>\n",
       "</table>\n",
       "</div>"
      ],
      "text/plain": [
       "   user_id   item_id  als_score  pop_score  genre_score\n",
       "0        0    597196   0.023411    21095.0          NaN\n",
       "1        0     18860   0.017238    10904.0          NaN\n",
       "2        0  21101463   0.017012     8927.0          NaN\n",
       "3        0  29213451   0.016820      810.0          NaN\n",
       "4        0  27077792   0.015884     1039.0          NaN"
      ]
     },
     "execution_count": 92,
     "metadata": {},
     "output_type": "execute_result"
    }
   ],
   "source": [
    "# Подготовим новый список кандидатов для ранжирования\n",
    "candidates_to_rank = pd.merge(\n",
    "    als_recommendations_validation.rename(columns={\"score\": \"als_score\"}),\n",
    "    popular_recommendations_validation.rename(columns={\"rank\": \"pop_score\"}),\n",
    "    on=['user_id', 'item_id'],\n",
    "    how=\"outer\"\n",
    ")\n",
    "candidates_to_rank = pd.merge(\n",
    "    candidates_to_rank,\n",
    "    genre_recomendations_validation.rename(columns={\"score\": \"genre_score\"}),\n",
    "    on=['user_id', 'item_id'],\n",
    "    how=\"outer\"\n",
    ")[['user_id', 'item_id', 'als_score', 'pop_score', 'genre_score']]\n",
    "candidates_to_rank.head(5)"
   ]
  },
  {
   "cell_type": "code",
   "execution_count": 93,
   "id": "895eec8b-d161-42fe-a551-231044453ada",
   "metadata": {},
   "outputs": [
    {
     "data": {
      "text/html": [
       "<div>\n",
       "<style scoped>\n",
       "    .dataframe tbody tr th:only-of-type {\n",
       "        vertical-align: middle;\n",
       "    }\n",
       "\n",
       "    .dataframe tbody tr th {\n",
       "        vertical-align: top;\n",
       "    }\n",
       "\n",
       "    .dataframe thead th {\n",
       "        text-align: right;\n",
       "    }\n",
       "</style>\n",
       "<table border=\"1\" class=\"dataframe\">\n",
       "  <thead>\n",
       "    <tr style=\"text-align: right;\">\n",
       "      <th></th>\n",
       "      <th>user_id</th>\n",
       "      <th>item_id</th>\n",
       "      <th>als_score</th>\n",
       "      <th>pop_score</th>\n",
       "      <th>genre_score</th>\n",
       "      <th>cb_score</th>\n",
       "      <th>rank</th>\n",
       "    </tr>\n",
       "  </thead>\n",
       "  <tbody>\n",
       "    <tr>\n",
       "      <th>6</th>\n",
       "      <td>0</td>\n",
       "      <td>27898772</td>\n",
       "      <td>0.014399</td>\n",
       "      <td>3750.0</td>\n",
       "      <td>NaN</td>\n",
       "      <td>0.994187</td>\n",
       "      <td>1</td>\n",
       "    </tr>\n",
       "    <tr>\n",
       "      <th>9</th>\n",
       "      <td>0</td>\n",
       "      <td>19722850</td>\n",
       "      <td>0.013526</td>\n",
       "      <td>4847.0</td>\n",
       "      <td>NaN</td>\n",
       "      <td>0.994174</td>\n",
       "      <td>2</td>\n",
       "    </tr>\n",
       "    <tr>\n",
       "      <th>5</th>\n",
       "      <td>0</td>\n",
       "      <td>6006252</td>\n",
       "      <td>0.015537</td>\n",
       "      <td>4450.0</td>\n",
       "      <td>NaN</td>\n",
       "      <td>0.882442</td>\n",
       "      <td>3</td>\n",
       "    </tr>\n",
       "    <tr>\n",
       "      <th>7</th>\n",
       "      <td>0</td>\n",
       "      <td>33308946</td>\n",
       "      <td>0.014087</td>\n",
       "      <td>975.0</td>\n",
       "      <td>NaN</td>\n",
       "      <td>0.841589</td>\n",
       "      <td>4</td>\n",
       "    </tr>\n",
       "    <tr>\n",
       "      <th>8</th>\n",
       "      <td>0</td>\n",
       "      <td>10791880</td>\n",
       "      <td>0.013891</td>\n",
       "      <td>7635.0</td>\n",
       "      <td>NaN</td>\n",
       "      <td>0.536840</td>\n",
       "      <td>5</td>\n",
       "    </tr>\n",
       "  </tbody>\n",
       "</table>\n",
       "</div>"
      ],
      "text/plain": [
       "   user_id   item_id  als_score  pop_score  genre_score  cb_score  rank\n",
       "6        0  27898772   0.014399     3750.0          NaN  0.994187     1\n",
       "9        0  19722850   0.013526     4847.0          NaN  0.994174     2\n",
       "5        0   6006252   0.015537     4450.0          NaN  0.882442     3\n",
       "7        0  33308946   0.014087      975.0          NaN  0.841589     4\n",
       "8        0  10791880   0.013891     7635.0          NaN  0.536840     5"
      ]
     },
     "execution_count": 93,
     "metadata": {},
     "output_type": "execute_result"
    }
   ],
   "source": [
    "# \n",
    "inference_data = Pool(data=candidates_to_rank[['als_score', 'pop_score', 'genre_score']])\n",
    "predictions = cb_model.predict_proba(inference_data)\n",
    "\n",
    "candidates_to_rank[\"cb_score\"] = predictions[:, 1]\n",
    "\n",
    "candidates_to_rank = candidates_to_rank.sort_values([\"user_id\", \"cb_score\"], ascending=[True, False])\n",
    "candidates_to_rank[\"rank\"] = (candidates_to_rank.groupby(\"user_id\").cumcount() + 1)\n",
    "candidates_to_rank.head(5)"
   ]
  },
  {
   "cell_type": "code",
   "execution_count": 94,
   "id": "ef330e5b-f339-4435-9980-ed36507e0d56",
   "metadata": {},
   "outputs": [],
   "source": [
    "max_recommendations_per_user = 10\n",
    "final_recommendations = candidates_to_rank.query('rank <= @max_recommendations_per_user')"
   ]
  },
  {
   "cell_type": "code",
   "execution_count": 95,
   "id": "dd3c6fb5-455d-4a70-90d2-2b071b9d9b63",
   "metadata": {},
   "outputs": [],
   "source": [
    "final_recommendations.to_parquet(\"recommendations.parquet\")\n",
    "upload_to_s3('recommendations.parquet', aws_bucket_name)"
   ]
  },
  {
   "cell_type": "markdown",
   "id": "b3c84071-45b5-4a15-a683-e0ab034a3128",
   "metadata": {},
   "source": [
    "# Оценка качества"
   ]
  },
  {
   "cell_type": "markdown",
   "id": "1b107fe4-554e-42b1-87d9-c435a52bb77a",
   "metadata": {},
   "source": [
    "Проверим оценку качества трёх типов рекомендаций: \n",
    "\n",
    "- топ популярных,\n",
    "- персональных, полученных при помощи ALS,\n",
    "- итоговых\n",
    "  \n",
    "по четырем метрикам: recall, precision, coverage, novelty."
   ]
  },
  {
   "cell_type": "code",
   "execution_count": 7,
   "id": "94d6f388-aecb-443e-8647-14014e932d4d",
   "metadata": {},
   "outputs": [],
   "source": [
    "def process_events_recs_for_binary_metrics(events_train, events_test, recs, top_k=None):\n",
    "    \"\"\"\n",
    "    размечает пары <user_id, item_id> для общего множества пользователей признаками\n",
    "    - gt (ground truth)\n",
    "    - pr (prediction)\n",
    "    top_k: расчёт ведётся только для top k-рекомендаций\n",
    "    \"\"\"\n",
    "\n",
    "    events_test[\"gt\"] = True\n",
    "    common_users = set(events_test[\"user_id\"]) & set(recs[\"user_id\"])\n",
    "    \n",
    "    events_for_common_users = events_test[events_test[\"user_id\"].isin(common_users)].copy()\n",
    "    recs_for_common_users = recs[recs[\"user_id\"].isin(common_users)].copy()\n",
    "\n",
    "    recs_for_common_users = recs_for_common_users.sort_values([\"user_id\", \"score\"], ascending=[True, False])\n",
    "    events_for_common_users = events_for_common_users[events_for_common_users[\"item_id\"].isin(events_train[\"item_id\"].unique())]\n",
    "\n",
    "    if top_k is not None:\n",
    "        recs_for_common_users = recs_for_common_users.groupby(\"user_id\").head(top_k)\n",
    "    \n",
    "    events_recs_common = events_for_common_users[[\"user_id\", \"item_id\", \"gt\"]].merge(\n",
    "        recs_for_common_users[[\"user_id\", \"item_id\", \"score\"]], \n",
    "        on=[\"user_id\", \"item_id\"], how=\"outer\")    \n",
    "\n",
    "    events_recs_common[\"gt\"] = events_recs_common[\"gt\"].fillna(False)\n",
    "    events_recs_common[\"pr\"] = ~events_recs_common[\"score\"].isnull()\n",
    "    \n",
    "    events_recs_common[\"tp\"] = events_recs_common[\"gt\"] & events_recs_common[\"pr\"]\n",
    "    events_recs_common[\"fp\"] = ~events_recs_common[\"gt\"] & events_recs_common[\"pr\"]\n",
    "    events_recs_common[\"fn\"] = events_recs_common[\"gt\"] & ~events_recs_common[\"pr\"]\n",
    "\n",
    "    return events_recs_common \n",
    "\n",
    "def compute_cls_metrics(events_recs_for_binary_metric):\n",
    "    groupper = events_recs_for_binary_metric.groupby(\"user_id\")\n",
    "\n",
    "    # precision = tp / (tp + fp)\n",
    "    precision = groupper[\"tp\"].sum()/(groupper[\"tp\"].sum()+groupper[\"fp\"].sum())\n",
    "    precision = precision.fillna(0).mean()\n",
    "    \n",
    "    # recall = tp / (tp + fn)\n",
    "    recall = groupper[\"tp\"].sum()/(groupper[\"tp\"].sum()+groupper[\"fn\"].sum())\n",
    "    recall = recall.fillna(0).mean()\n",
    "\n",
    "    return precision, recall"
   ]
  },
  {
   "cell_type": "code",
   "execution_count": 24,
   "id": "d23b8209-f468-4b10-9140-4868cd8e2630",
   "metadata": {},
   "outputs": [],
   "source": [
    "final_recommendations = pd.read_parquet(\"recommendations.parquet\")"
   ]
  },
  {
   "cell_type": "code",
   "execution_count": 22,
   "id": "688b85d0-265e-4420-b4d1-f7a24d594b64",
   "metadata": {},
   "outputs": [],
   "source": [
    "# Расчитаем метрики precision и recall от трех разных кандидатогенераторов и итоговых (топ-5 первых рекомендаций)\n",
    "k = 5\n",
    "events_inference = pd.concat([events_train, events_labels])"
   ]
  },
  {
   "cell_type": "code",
   "execution_count": 35,
   "id": "d8515b8a-8039-49e8-95bc-af93e7b80242",
   "metadata": {},
   "outputs": [
    {
     "name": "stdout",
     "output_type": "stream",
     "text": [
      "precision: 0.0071, recall: 0.0056\n"
     ]
    }
   ],
   "source": [
    "# Персональные, полученных при помощи ALS\n",
    "als_events_recs_for_binary_metrics_5 = process_events_recs_for_binary_metrics(\n",
    "    events_inference,\n",
    "    events_test_2,\n",
    "    final_recommendations.rename(columns={\"als_score\": \"score\"}), \n",
    "    top_k=k)\n",
    "\n",
    "als_precision_5, als_recall_5 = compute_cls_metrics(als_events_recs_for_binary_metrics_5)\n",
    "\n",
    "print(f\"precision: {als_precision_5:.4f}, recall: {als_recall_5:.4f}\") "
   ]
  },
  {
   "cell_type": "code",
   "execution_count": 36,
   "id": "9dbfd69a-191f-4672-9298-25b44b74c326",
   "metadata": {},
   "outputs": [
    {
     "name": "stdout",
     "output_type": "stream",
     "text": [
      "precision: 0.0056, recall: 0.0028\n"
     ]
    }
   ],
   "source": [
    "# Топ популярных\n",
    "pop_events_recs_for_binary_metrics_5 = process_events_recs_for_binary_metrics(\n",
    "    events_inference,\n",
    "    events_test_2,\n",
    "    final_recommendations.rename(columns={\"pop_score\": \"score\"}), \n",
    "    top_k=k)\n",
    "\n",
    "pop_precision_5, pop_recall_5 = compute_cls_metrics(pop_events_recs_for_binary_metrics_5)\n",
    "\n",
    "print(f\"precision: {pop_precision_5:.4f}, recall: {pop_recall_5:.4f}\") "
   ]
  },
  {
   "cell_type": "code",
   "execution_count": 39,
   "id": "54f5a89d-b465-4bd8-b38a-d4efe2e6e31c",
   "metadata": {},
   "outputs": [
    {
     "name": "stdout",
     "output_type": "stream",
     "text": [
      "precision: 0.8513, recall: 0.5175\n"
     ]
    }
   ],
   "source": [
    "# Топ популярных жанров\n",
    "genre_events_recs_for_binary_metrics_5 = process_events_recs_for_binary_metrics(\n",
    "    events_inference,\n",
    "    events_test_2,\n",
    "    final_recommendations.rename(columns={\"genre_score\": \"score\"}), \n",
    "    top_k=k)\n",
    "\n",
    "genre_precision_5, genre_recall_5 = compute_cls_metrics(genre_events_recs_for_binary_metrics_5)\n",
    "\n",
    "print(f\"precision: {genre_precision_5:.4f}, recall: {genre_recall_5:.4f}\") "
   ]
  },
  {
   "cell_type": "code",
   "execution_count": 25,
   "id": "26df411f-14c1-4848-8797-f37afe449cc6",
   "metadata": {},
   "outputs": [
    {
     "name": "stdout",
     "output_type": "stream",
     "text": [
      "precision: 0.3213, recall: 0.2428\n"
     ]
    }
   ],
   "source": [
    "# Итоговые\n",
    "cb_events_recs_for_binary_metrics_5 = process_events_recs_for_binary_metrics(\n",
    "    events_inference,\n",
    "    events_test_2,\n",
    "    final_recommendations.rename(columns={\"cb_score\": \"score\"}), \n",
    "    top_k=k)\n",
    "\n",
    "cb_precision_5, cb_recall_5 = compute_cls_metrics(cb_events_recs_for_binary_metrics_5)\n",
    "\n",
    "print(f\"precision: {cb_precision_5:.4f}, recall: {cb_recall_5:.4f}\") "
   ]
  },
  {
   "cell_type": "code",
   "execution_count": 14,
   "id": "85c5ceb2-5de0-45d1-8017-bd1741a554f4",
   "metadata": {},
   "outputs": [],
   "source": [
    "events_train = pd.read_parquet('events_train.parquet')\n",
    "final_recommendations = pd.read_parquet('recommendations.parquet')\n",
    "items = pd.read_parquet('items.parquet')"
   ]
  },
  {
   "cell_type": "code",
   "execution_count": 8,
   "id": "a368a84d-156f-41f0-b00f-949914e6b9fd",
   "metadata": {},
   "outputs": [],
   "source": [
    "k = 5\n",
    "events_train[\"listened\"] = True\n",
    "recommendations = final_recommendations.merge(\n",
    "    events_train[[\"user_id\", \"item_id\", \"listened\"]],\n",
    "    on=[\"user_id\", \"item_id\"],\n",
    "    how=\"left\"\n",
    ")"
   ]
  },
  {
   "cell_type": "code",
   "execution_count": 9,
   "id": "fad4a06e-48b9-4a64-a329-74fa4ed3aea7",
   "metadata": {},
   "outputs": [],
   "source": [
    "recommendations[\"listened\"] = recommendations[\"listened\"].fillna(False).astype(\"bool\")\n",
    "recommendations = recommendations.sort_values(by='cb_score', ascending=False)\n",
    "recommendations[\"rank\"] = recommendations.groupby(\"user_id\").cumcount() + 1\n",
    "recommendations_novelty_5 = (1 - recommendations.query(\"rank <= @k\").groupby(\"user_id\")[\"listened\"].mean())"
   ]
  },
  {
   "cell_type": "code",
   "execution_count": 17,
   "id": "093a7e38-baa0-4640-b87f-6d4135245c78",
   "metadata": {},
   "outputs": [],
   "source": [
    "cov_items = final_recommendations.item_id.nunique() / items.index.nunique()"
   ]
  },
  {
   "cell_type": "code",
   "execution_count": 19,
   "id": "c14b1513-36fa-41fe-ab9e-640dfc673eb0",
   "metadata": {},
   "outputs": [
    {
     "name": "stdout",
     "output_type": "stream",
     "text": [
      "novelty: 0.726, coverage: 0.250\n"
     ]
    }
   ],
   "source": [
    "print(f\"novelty: {recommendations_novelty_5.mean():.3f}, coverage: {cov_items:.3f}\") "
   ]
  },
  {
   "cell_type": "markdown",
   "id": "f1c8d38c-32b0-46a4-96f0-cd01dac708bc",
   "metadata": {},
   "source": [
    "# === Выводы, метрики ==="
   ]
  },
  {
   "cell_type": "markdown",
   "id": "f7d7d5d8-7d1e-4fdf-a6cd-83e5ce92c684",
   "metadata": {},
   "source": [
    "Основные выводы при работе над расчётом рекомендаций, рассчитанные метрики."
   ]
  },
  {
   "cell_type": "markdown",
   "id": "080fd87a-e7c4-4957-9c04-da8074c04cfd",
   "metadata": {},
   "source": [
    "В ходе работы была создана рекомендательная модель, объединяющая персонализированные рекомендации ALS, популярные треки и популярные жанры. Комбинирование этих подходов и их ранжирование с помощью CatBoost позволило достичь сбалансированного результата, значительно повысив качество рекомендаций."
   ]
  },
  {
   "cell_type": "markdown",
   "id": "cfc01589-8647-40c1-8274-01e6304bb358",
   "metadata": {},
   "source": [
    "Метрики качества для итоговой модели: `precision` — `0.3213`, `recall` – `0.2428`, `novelty` — `0.726`, `coverage` — `0.250`."
   ]
  },
  {
   "cell_type": "markdown",
   "id": "1a566439-f474-43cd-aa69-61a8cce6a338",
   "metadata": {},
   "source": [
    "Таким образлм полученная модель демонстрирует высокую новизну и достаточно хорошую точность при умеренном покрытии и полноте. Модель предлагает релевантные, новые для пользователей треки и охватывает четверть каталога."
   ]
  },
  {
   "cell_type": "code",
   "execution_count": null,
   "id": "4a1e75a1-fe21-423b-826f-6a3c855954cd",
   "metadata": {},
   "outputs": [],
   "source": []
  }
 ],
 "metadata": {
  "kernelspec": {
   "display_name": "Python 3 (ipykernel)",
   "language": "python",
   "name": "python3"
  },
  "language_info": {
   "codemirror_mode": {
    "name": "ipython",
    "version": 3
   },
   "file_extension": ".py",
   "mimetype": "text/x-python",
   "name": "python",
   "nbconvert_exporter": "python",
   "pygments_lexer": "ipython3",
   "version": "3.10.12"
  }
 },
 "nbformat": 4,
 "nbformat_minor": 5
}
